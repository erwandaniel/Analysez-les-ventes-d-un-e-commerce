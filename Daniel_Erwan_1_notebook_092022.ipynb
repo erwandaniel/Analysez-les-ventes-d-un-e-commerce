{
 "cells": [
  {
   "cell_type": "markdown",
   "id": "dc7ff5e0",
   "metadata": {},
   "source": [
    "# Analyse des ventes de la librairie LAPAGE"
   ]
  },
  {
   "cell_type": "markdown",
   "id": "11dad358",
   "metadata": {},
   "source": [
    "# Travail préalable à l'analyse :"
   ]
  },
  {
   "cell_type": "markdown",
   "id": "65fedc93",
   "metadata": {},
   "source": [
    "Avant toute chose, nous devons procéder à la vérification des tables fournies par l'entreprise et s'assurer de leur bonne cohérence.\n",
    "Le cas échéant, nous devrons effectuer d'éventuelles modifications de valeurs nulles, d'informations erronnées..."
   ]
  },
  {
   "cell_type": "markdown",
   "id": "ac508593",
   "metadata": {},
   "source": [
    "# Importation, vérification, puis nettoyage des tables ..."
   ]
  },
  {
   "cell_type": "code",
   "execution_count": 200,
   "id": "c168129a",
   "metadata": {},
   "outputs": [],
   "source": [
    "import pandas as pd\n",
    "import numpy as np\n",
    "import matplotlib.pyplot as plt\n",
    "from scipy.stats import uniform\n",
    "from scipy.stats import randint\n",
    "from scipy import stats\n",
    "import seaborn as sns\n",
    "import math\n",
    "from datetime import datetime\n",
    "import statistics\n",
    "from collections import Counter\n",
    "from scipy.stats import shapiro"
   ]
  },
  {
   "cell_type": "markdown",
   "id": "3e650afd",
   "metadata": {},
   "source": [
    "TABLE CLIENTS - \"customers.csv\""
   ]
  },
  {
   "cell_type": "code",
   "execution_count": 2,
   "id": "31fc8735",
   "metadata": {},
   "outputs": [
    {
     "name": "stdout",
     "output_type": "stream",
     "text": [
      "<class 'pandas.core.frame.DataFrame'>\n",
      "RangeIndex: 8623 entries, 0 to 8622\n",
      "Data columns (total 3 columns):\n",
      " #   Column     Non-Null Count  Dtype \n",
      "---  ------     --------------  ----- \n",
      " 0   client_id  8623 non-null   object\n",
      " 1   sex        8623 non-null   object\n",
      " 2   birth      8623 non-null   int64 \n",
      "dtypes: int64(1), object(2)\n",
      "memory usage: 202.2+ KB\n",
      "(8623, 3)\n"
     ]
    },
    {
     "data": {
      "text/html": [
       "<div>\n",
       "<style scoped>\n",
       "    .dataframe tbody tr th:only-of-type {\n",
       "        vertical-align: middle;\n",
       "    }\n",
       "\n",
       "    .dataframe tbody tr th {\n",
       "        vertical-align: top;\n",
       "    }\n",
       "\n",
       "    .dataframe thead th {\n",
       "        text-align: right;\n",
       "    }\n",
       "</style>\n",
       "<table border=\"1\" class=\"dataframe\">\n",
       "  <thead>\n",
       "    <tr style=\"text-align: right;\">\n",
       "      <th></th>\n",
       "      <th>client_id</th>\n",
       "      <th>sex</th>\n",
       "      <th>birth</th>\n",
       "    </tr>\n",
       "  </thead>\n",
       "  <tbody>\n",
       "    <tr>\n",
       "      <th>0</th>\n",
       "      <td>c_4410</td>\n",
       "      <td>f</td>\n",
       "      <td>1967</td>\n",
       "    </tr>\n",
       "    <tr>\n",
       "      <th>1</th>\n",
       "      <td>c_7839</td>\n",
       "      <td>f</td>\n",
       "      <td>1975</td>\n",
       "    </tr>\n",
       "    <tr>\n",
       "      <th>2</th>\n",
       "      <td>c_1699</td>\n",
       "      <td>f</td>\n",
       "      <td>1984</td>\n",
       "    </tr>\n",
       "    <tr>\n",
       "      <th>3</th>\n",
       "      <td>c_5961</td>\n",
       "      <td>f</td>\n",
       "      <td>1962</td>\n",
       "    </tr>\n",
       "    <tr>\n",
       "      <th>4</th>\n",
       "      <td>c_5320</td>\n",
       "      <td>m</td>\n",
       "      <td>1943</td>\n",
       "    </tr>\n",
       "  </tbody>\n",
       "</table>\n",
       "</div>"
      ],
      "text/plain": [
       "  client_id sex  birth\n",
       "0    c_4410   f   1967\n",
       "1    c_7839   f   1975\n",
       "2    c_1699   f   1984\n",
       "3    c_5961   f   1962\n",
       "4    c_5320   m   1943"
      ]
     },
     "execution_count": 2,
     "metadata": {},
     "output_type": "execute_result"
    }
   ],
   "source": [
    "#Vérification de la table customers\n",
    "\n",
    "clients = pd.read_csv ('customers.csv', sep=',')\n",
    "clients.info()\n",
    "clients.isna().sum()\n",
    "print(clients.shape)\n",
    "clients.head()"
   ]
  },
  {
   "cell_type": "code",
   "execution_count": 3,
   "id": "3c797fb9",
   "metadata": {},
   "outputs": [
    {
     "name": "stdout",
     "output_type": "stream",
     "text": [
      "Il y a 0 doublon(s) au niveau des id clients.\n"
     ]
    }
   ],
   "source": [
    "#Vérification des doublons dans la colonne id\n",
    "\n",
    "print(\"Il y a\", clients.duplicated(['client_id']).sum(), \"doublon(s) au niveau des id clients.\")"
   ]
  },
  {
   "cell_type": "code",
   "execution_count": 4,
   "id": "76427e31",
   "metadata": {},
   "outputs": [
    {
     "name": "stdout",
     "output_type": "stream",
     "text": [
      "Il y a bien 2 catégories dans la colonne sex.\n"
     ]
    }
   ],
   "source": [
    "#Vérification de la confmité de la colonne sex\n",
    "\n",
    "if ((len(np.unique(clients['sex']))) == 2 ) :\n",
    "    print (\"Il y a bien\", (len(np.unique(clients['sex']))), \"catégories dans la colonne sex.\")\n",
    "else :\n",
    "    print (\"Il y a\", (len(np.unique(clients['sex']))),\"catégories dans la colonne sex.\")"
   ]
  },
  {
   "cell_type": "code",
   "execution_count": 5,
   "id": "6f623d77",
   "metadata": {},
   "outputs": [
    {
     "data": {
      "image/png": "[encoded data removed]",
      "text/plain": [
       "<Figure size 432x288 with 1 Axes>"
      ]
     },
     "metadata": {
      "needs_background": "light"
     },
     "output_type": "display_data"
    },
    {
     "name": "stdout",
     "output_type": "stream",
     "text": [
      "L'ensemble du fichier clients semble cohérent. Passons à la suite !\n"
     ]
    }
   ],
   "source": [
    "#Vérification de la cohérence des âges à l'aide d'un boxplot\n",
    "\n",
    "plt.boxplot(clients['birth'])\n",
    "plt.title(\"Répartition des années de naissance des clients\")\n",
    "plt.show()\n",
    "\n",
    "print(\"L'ensemble du fichier clients semble cohérent. Passons à la suite !\")"
   ]
  },
  {
   "cell_type": "raw",
   "id": "04626843",
   "metadata": {},
   "source": [
    "TABLE PRODUITS - \"products.csv\""
   ]
  },
  {
   "cell_type": "code",
   "execution_count": 6,
   "id": "5166343e",
   "metadata": {},
   "outputs": [
    {
     "name": "stdout",
     "output_type": "stream",
     "text": [
      "(3287, 3)\n",
      "\n",
      "<class 'pandas.core.frame.DataFrame'>\n",
      "RangeIndex: 3287 entries, 0 to 3286\n",
      "Data columns (total 3 columns):\n",
      " #   Column   Non-Null Count  Dtype  \n",
      "---  ------   --------------  -----  \n",
      " 0   id_prod  3287 non-null   object \n",
      " 1   price    3287 non-null   float64\n",
      " 2   categ    3287 non-null   int64  \n",
      "dtypes: float64(1), int64(1), object(1)\n",
      "memory usage: 77.2+ KB\n"
     ]
    },
    {
     "data": {
      "text/plain": [
       "id_prod    0\n",
       "price      0\n",
       "categ      0\n",
       "dtype: int64"
      ]
     },
     "execution_count": 6,
     "metadata": {},
     "output_type": "execute_result"
    }
   ],
   "source": [
    "#Vérification de la table produits\n",
    "\n",
    "produits = pd.read_csv ('products.csv', sep=',')\n",
    "print(produits.shape)\n",
    "print(\"\")\n",
    "produits.info()\n",
    "produits.isna().sum()"
   ]
  },
  {
   "cell_type": "code",
   "execution_count": 7,
   "id": "5389f982",
   "metadata": {},
   "outputs": [
    {
     "name": "stdout",
     "output_type": "stream",
     "text": [
      "  id_prod  price  categ\n",
      "0  0_1421  19.99      0\n",
      "1  0_1368   5.13      0\n",
      "2   0_731  17.99      0\n",
      "3   1_587   4.99      1\n",
      "4  0_1507   3.99      0\n"
     ]
    }
   ],
   "source": [
    "#Vérification d'un extrait de la table\n",
    "\n",
    "print(produits.head())"
   ]
  },
  {
   "cell_type": "code",
   "execution_count": 8,
   "id": "573a0db6",
   "metadata": {},
   "outputs": [
    {
     "name": "stdout",
     "output_type": "stream",
     "text": [
      "Il y a 3 catégorie(s) dans la colonne categ.\n",
      "\n",
      "Il y a 0 doublon(s) pour la variable id_prod.\n"
     ]
    }
   ],
   "source": [
    "#Vérification du nombre de catégories\n",
    "\n",
    "print(\"Il y a\",(len(np.unique(produits['categ']))), \"catégorie(s) dans la colonne categ.\")\n",
    "print(\"\")\n",
    "\n",
    "#Vérification des doublons\n",
    "\n",
    "print(\"Il y a\", produits.duplicated(['id_prod']).sum(), \"doublon(s) pour la variable id_prod.\")"
   ]
  },
  {
   "cell_type": "code",
   "execution_count": 9,
   "id": "6e0f780b",
   "metadata": {
    "scrolled": true
   },
   "outputs": [
    {
     "data": {
      "image/png": "[encoded data removed]",
      "text/plain": [
       "<Figure size 432x288 with 1 Axes>"
      ]
     },
     "metadata": {
      "needs_background": "light"
     },
     "output_type": "display_data"
    }
   ],
   "source": [
    "#Vérification de la cohérence des prix des produits à l'aide d'un boxplot\n",
    "\n",
    "plt.boxplot(produits['price'])\n",
    "plt.title(\"Répartition des prix des produits\")\n",
    "plt.show()"
   ]
  },
  {
   "cell_type": "markdown",
   "id": "a764dc11",
   "metadata": {},
   "source": [
    "Jusqu'à maintenant, la table PRODUITS semble cohérente et sans valeurs aberrantes ..."
   ]
  },
  {
   "cell_type": "code",
   "execution_count": 10,
   "id": "163fa3d4",
   "metadata": {
    "scrolled": true
   },
   "outputs": [
    {
     "name": "stdout",
     "output_type": "stream",
     "text": [
      "La variable price contient des valeurs négatives ou égales à zéro.\n",
      "     id_prod  price  categ\n",
      "731      T_0  -1.00      0\n",
      "2355   0_202   0.62      0\n",
      "2272   0_528   0.62      0\n"
     ]
    }
   ],
   "source": [
    "#Vérification des valeurs minimales de 'price'\n",
    "\n",
    "#Hypothèse d'une valeur négative\n",
    "if any(produits[\"price\"]) >= 0 :\n",
    "    print (\"La variable price contient des valeurs négatives ou égales à zéro.\")\n",
    "    print(produits.sort_values([\"price\"], ascending=True).head(3)),    \n",
    "else :\n",
    "    print(\"La variable price semble cohérente.\")"
   ]
  },
  {
   "cell_type": "markdown",
   "id": "b7eaba81",
   "metadata": {},
   "source": [
    "La valeur négative \"-1.00\" est une valeur négative et doit être supprimée afin de faire une analyse correcte. \n",
    "Approfondissons les vérifications afin de cerner le problème et de le corriger comme il se doit."
   ]
  },
  {
   "cell_type": "code",
   "execution_count": 11,
   "id": "d497f2a2",
   "metadata": {},
   "outputs": [
    {
     "data": {
      "text/html": [
       "<div>\n",
       "<style scoped>\n",
       "    .dataframe tbody tr th:only-of-type {\n",
       "        vertical-align: middle;\n",
       "    }\n",
       "\n",
       "    .dataframe tbody tr th {\n",
       "        vertical-align: top;\n",
       "    }\n",
       "\n",
       "    .dataframe thead th {\n",
       "        text-align: right;\n",
       "    }\n",
       "</style>\n",
       "<table border=\"1\" class=\"dataframe\">\n",
       "  <thead>\n",
       "    <tr style=\"text-align: right;\">\n",
       "      <th></th>\n",
       "      <th>id_prod</th>\n",
       "      <th>price</th>\n",
       "      <th>categ</th>\n",
       "    </tr>\n",
       "  </thead>\n",
       "  <tbody>\n",
       "    <tr>\n",
       "      <th>947</th>\n",
       "      <td>2_2</td>\n",
       "      <td>300.00</td>\n",
       "      <td>2</td>\n",
       "    </tr>\n",
       "    <tr>\n",
       "      <th>724</th>\n",
       "      <td>2_76</td>\n",
       "      <td>254.44</td>\n",
       "      <td>2</td>\n",
       "    </tr>\n",
       "    <tr>\n",
       "      <th>394</th>\n",
       "      <td>2_158</td>\n",
       "      <td>247.22</td>\n",
       "      <td>2</td>\n",
       "    </tr>\n",
       "    <tr>\n",
       "      <th>1436</th>\n",
       "      <td>2_167</td>\n",
       "      <td>236.99</td>\n",
       "      <td>2</td>\n",
       "    </tr>\n",
       "    <tr>\n",
       "      <th>2779</th>\n",
       "      <td>2_30</td>\n",
       "      <td>233.54</td>\n",
       "      <td>2</td>\n",
       "    </tr>\n",
       "  </tbody>\n",
       "</table>\n",
       "</div>"
      ],
      "text/plain": [
       "     id_prod   price  categ\n",
       "947      2_2  300.00      2\n",
       "724     2_76  254.44      2\n",
       "394    2_158  247.22      2\n",
       "1436   2_167  236.99      2\n",
       "2779    2_30  233.54      2"
      ]
     },
     "execution_count": 11,
     "metadata": {},
     "output_type": "execute_result"
    }
   ],
   "source": [
    "#Vérification des valeurs maximales de 'price'\n",
    "\n",
    "produits.sort_values([\"price\"], ascending=False).head(5)"
   ]
  },
  {
   "cell_type": "raw",
   "id": "233c215d",
   "metadata": {},
   "source": [
    "TABLES TRANSACTIONS - transactions.csv"
   ]
  },
  {
   "cell_type": "code",
   "execution_count": 12,
   "id": "03d5bd00",
   "metadata": {},
   "outputs": [
    {
     "name": "stdout",
     "output_type": "stream",
     "text": [
      "(679532, 4)\n",
      "\n",
      "<class 'pandas.core.frame.DataFrame'>\n",
      "RangeIndex: 679532 entries, 0 to 679531\n",
      "Data columns (total 4 columns):\n",
      " #   Column      Non-Null Count   Dtype \n",
      "---  ------      --------------   ----- \n",
      " 0   id_prod     679532 non-null  object\n",
      " 1   date        679532 non-null  object\n",
      " 2   session_id  679532 non-null  object\n",
      " 3   client_id   679532 non-null  object\n",
      "dtypes: object(4)\n",
      "memory usage: 20.7+ MB\n",
      "  id_prod                        date session_id client_id\n",
      "0  0_1518  2022-05-20 13:21:29.043970   s_211425     c_103\n",
      "1   1_251  2022-02-02 07:55:19.149409   s_158752    c_8534\n",
      "2  0_1277  2022-06-18 15:44:33.155329   s_225667    c_6714\n",
      "3   2_209  2021-06-24 04:19:29.835891    s_52962    c_6941\n",
      "4  0_1509  2023-01-11 08:22:08.194479   s_325227    c_4232\n",
      "\n",
      "On s'aperçoit que le format date n'est pas adapté, en plus d'être de type objet...\n"
     ]
    }
   ],
   "source": [
    "#Vérification de la table transactions\n",
    "\n",
    "transactions = pd.read_csv ('transactions.csv', sep=',')\n",
    "print(transactions.shape)\n",
    "print(\"\")\n",
    "transactions.info()\n",
    "transactions.isna().sum()\n",
    "\n",
    "#Visualisation d'un extrait de la table transactions\n",
    "\n",
    "print(transactions.head())\n",
    "print(\"\")\n",
    "print(\"On s'aperçoit que le format date n'est pas adapté, en plus d'être de type objet...\")"
   ]
  },
  {
   "cell_type": "code",
   "execution_count": 13,
   "id": "bdb70240",
   "metadata": {},
   "outputs": [
    {
     "name": "stdout",
     "output_type": "stream",
     "text": [
      "Quelques chiffres clés :\n",
      "\n",
      "3267 produit(s) différent(s) vendu(s)\n",
      "8602 client(s) différent(s)\n",
      "342316 sessions d'achats uniques.\n",
      "337216 doublons de sessions d'achat, donc de paniers d'achats de deux articles ou plus.\n"
     ]
    }
   ],
   "source": [
    "#Visualisation de la cohérence de la table transactions\n",
    "\n",
    "print(\"Quelques chiffres clés :\")\n",
    "print(\"\")\n",
    "print((len(np.unique(transactions['id_prod']))), \"produit(s) différent(s) vendu(s)\",) \n",
    "print((len(np.unique(transactions['client_id']))), \"client(s) différent(s)\",)\n",
    "print((len(np.unique(transactions['session_id']))), \"sessions d'achats uniques.\")\n",
    "\n",
    "\n",
    "print(transactions.duplicated(['session_id']).sum(),\"doublons de sessions d'achat, donc de paniers d'achats de deux articles ou plus.\")"
   ]
  },
  {
   "cell_type": "code",
   "execution_count": 14,
   "id": "71079a4d",
   "metadata": {},
   "outputs": [
    {
     "name": "stdout",
     "output_type": "stream",
     "text": [
      "Le début du fichier commence à partir de la transaction 480642    2021-03-01 00:01:07.843138\n",
      "Name: date, dtype: object .\n"
     ]
    }
   ],
   "source": [
    "#Vérification de la cohérence des dates (1)\n",
    "\n",
    "debut = transactions['date'].sort_values(ascending=True).head(1)\n",
    "print(\"Le début du fichier commence à partir de la transaction\",debut,\".\" )"
   ]
  },
  {
   "cell_type": "code",
   "execution_count": 15,
   "id": "fc17f217",
   "metadata": {},
   "outputs": [
    {
     "name": "stdout",
     "output_type": "stream",
     "text": [
      "       id_prod                             date session_id client_id\n",
      "246980     T_0  test_2021-03-01 02:30:02.237450        s_0      ct_0\n",
      "573155     T_0  test_2021-03-01 02:30:02.237449        s_0      ct_0\n",
      "670680     T_0  test_2021-03-01 02:30:02.237449        s_0      ct_1\n",
      "19312      T_0  test_2021-03-01 02:30:02.237449        s_0      ct_0\n",
      "392443     T_0  test_2021-03-01 02:30:02.237448        s_0      ct_0\n",
      "\n",
      "Nous verrons après l'étape des jointures, et la suppression des 200 valeurs parasites avec pour id_prod T_0, à quelle date la dernière transaction est enregistrée.\n"
     ]
    }
   ],
   "source": [
    "#Vérification de la cohérence des dates (2)\n",
    "\n",
    "print(transactions.sort_values([\"date\"], ascending=False).head())\n",
    "print(\"\")\n",
    "print(\"Nous verrons après l'étape des jointures, et la suppression des\", len(transactions[(transactions['id_prod'] == \"T_0\")].index), \"valeurs parasites avec pour id_prod T_0, à quelle date la dernière transaction est enregistrée.\")"
   ]
  },
  {
   "cell_type": "markdown",
   "id": "4c596adf",
   "metadata": {},
   "source": [
    "Nous avons vu qu'il y a une valeur aberrante négative, dans la table PRODUITS, ainsi qu'un ensemble de session de \"test\" qui n'ont pas leur place dans notre analyse de sventes de la librairie.\n",
    "\n",
    "Certaines de ces valeurs, étant sûrement liées les unes aux autres, il sera plus facile de les supprimer totalement une fois ces différentes tables jointes ensemble."
   ]
  },
  {
   "cell_type": "markdown",
   "id": "f4c715fc",
   "metadata": {},
   "source": [
    "# Jointures des tables"
   ]
  },
  {
   "cell_type": "code",
   "execution_count": 16,
   "id": "c40ab05a",
   "metadata": {},
   "outputs": [
    {
     "data": {
      "text/plain": [
       "<bound method DataFrame.info of        id_prod                        date session_id client_id sex  birth\n",
       "0       0_1518  2022-05-20 13:21:29.043970   s_211425     c_103   f   1986\n",
       "1       0_1627  2022-06-18 05:55:31.816994   s_225494     c_103   f   1986\n",
       "2       0_1104  2023-02-08 17:31:06.898425   s_338755     c_103   f   1986\n",
       "3       0_1390  2021-04-20 06:18:39.939761    s_23078     c_103   f   1986\n",
       "4       0_1547  2022-03-15 19:54:53.904123   s_179629     c_103   f   1986\n",
       "...        ...                         ...        ...       ...  ..    ...\n",
       "679527  0_1509  2021-05-15 08:17:35.835342    s_34762    c_8114   m   1962\n",
       "679528   1_152  2021-11-08 17:12:27.637349   s_116675     c_240   m   1998\n",
       "679529   2_207  2021-06-01 04:31:16.088314    s_42418     c_305   f   1996\n",
       "679530   1_521  2022-10-18 00:38:49.629165   s_284060     c_305   f   1996\n",
       "679531   1_521  2021-12-18 00:38:49.629165   s_135996     c_305   f   1996\n",
       "\n",
       "[679532 rows x 6 columns]>"
      ]
     },
     "execution_count": 16,
     "metadata": {},
     "output_type": "execute_result"
    }
   ],
   "source": [
    "#Jointure de la table clients à la table transactions et vérification de la bonne jointure\n",
    "\n",
    "cli_tran = pd.merge(transactions,clients, how = \"inner\")\n",
    "cli_tran.head()\n",
    "cli_tran.info"
   ]
  },
  {
   "cell_type": "code",
   "execution_count": 17,
   "id": "70d8cfaa",
   "metadata": {},
   "outputs": [
    {
     "data": {
      "text/plain": [
       "<bound method DataFrame.info of        id_prod                        date session_id client_id sex  birth  \\\n",
       "0       0_1518  2022-05-20 13:21:29.043970   s_211425     c_103   f   1986   \n",
       "1       0_1627  2022-06-18 05:55:31.816994   s_225494     c_103   f   1986   \n",
       "2       0_1104  2023-02-08 17:31:06.898425   s_338755     c_103   f   1986   \n",
       "3       0_1390  2021-04-20 06:18:39.939761    s_23078     c_103   f   1986   \n",
       "4       0_1547  2022-03-15 19:54:53.904123   s_179629     c_103   f   1986   \n",
       "...        ...                         ...        ...       ...  ..    ...   \n",
       "679527  0_1509  2021-05-15 08:17:35.835342    s_34762    c_8114   m   1962   \n",
       "679528   1_152  2021-11-08 17:12:27.637349   s_116675     c_240   m   1998   \n",
       "679529   2_207  2021-06-01 04:31:16.088314    s_42418     c_305   f   1996   \n",
       "679530   1_521  2022-10-18 00:38:49.629165   s_284060     c_305   f   1996   \n",
       "679531   1_521  2021-12-18 00:38:49.629165   s_135996     c_305   f   1996   \n",
       "\n",
       "        price  categ  \n",
       "0        4.18    0.0  \n",
       "1        3.99    0.0  \n",
       "2       13.21    0.0  \n",
       "3       19.37    0.0  \n",
       "4        8.99    0.0  \n",
       "...       ...    ...  \n",
       "679527   4.99    0.0  \n",
       "679528  11.06    1.0  \n",
       "679529  50.99    2.0  \n",
       "679530  22.99    1.0  \n",
       "679531  22.99    1.0  \n",
       "\n",
       "[679532 rows x 8 columns]>"
      ]
     },
     "execution_count": 17,
     "metadata": {},
     "output_type": "execute_result"
    }
   ],
   "source": [
    "#Jointure de la table finale et vérification de sa cohérence\n",
    "\n",
    "lapage_final = pd.merge(cli_tran, produits, how = \"left\")\n",
    "lapage_final.head()\n",
    "lapage_final.info"
   ]
  },
  {
   "cell_type": "markdown",
   "id": "94334dac",
   "metadata": {},
   "source": [
    "#  Vérification et nettoyage des données aberrantes"
   ]
  },
  {
   "cell_type": "code",
   "execution_count": 18,
   "id": "54915f80",
   "metadata": {
    "scrolled": true
   },
   "outputs": [
    {
     "name": "stdout",
     "output_type": "stream",
     "text": [
      "       id_prod                             date session_id client_id sex  \\\n",
      "309473     T_0  test_2021-03-01 02:30:02.237450        s_0      ct_0   f   \n",
      "309530     T_0  test_2021-03-01 02:30:02.237449        s_0      ct_0   f   \n",
      "309443     T_0  test_2021-03-01 02:30:02.237449        s_0      ct_0   f   \n",
      "\n",
      "        birth  price  categ  \n",
      "309473   2001   -1.0    0.0  \n",
      "309530   2001   -1.0    0.0  \n",
      "309443   2001   -1.0    0.0  \n",
      "       id_prod                        date session_id client_id sex  birth  \\\n",
      "467625  0_1259  2021-03-01 00:01:07.843138        s_1     c_329   f   1967   \n",
      "244742  0_1390  2021-03-01 00:02:26.047414        s_2     c_664   m   1960   \n",
      "124034  0_1352  2021-03-01 00:02:38.311413        s_3     c_580   m   1988   \n",
      "\n",
      "        price  categ  \n",
      "467625  11.99    0.0  \n",
      "244742  19.37    0.0  \n",
      "124034   4.50    0.0  \n"
     ]
    }
   ],
   "source": [
    "#Vérification des valeurs test de la table finale\n",
    "\n",
    "print(lapage_final.sort_values([\"date\"], ascending=False).head(3))\n",
    "print(lapage_final.sort_values([\"date\"], ascending=True).head(3))\n",
    "\n",
    "#Export csv intermédiaire de la table\n",
    "gfg_csv_data = lapage_final.to_csv('lapage_final.csv', index = True)"
   ]
  },
  {
   "cell_type": "markdown",
   "id": "ac9fe839",
   "metadata": {},
   "source": [
    "# Nettoyage de la table finale"
   ]
  },
  {
   "cell_type": "code",
   "execution_count": 19,
   "id": "d7cd503e",
   "metadata": {},
   "outputs": [
    {
     "name": "stdout",
     "output_type": "stream",
     "text": [
      "Index(['id_prod', 'date', 'session_id', 'client_id', 'sex', 'birth', 'price',\n",
      "       'categ'],\n",
      "      dtype='object')\n",
      "<bound method DataFrame.info of        id_prod                        date session_id client_id sex  birth  \\\n",
      "0       0_1518  2022-05-20 13:21:29.043970   s_211425     c_103   f   1986   \n",
      "1       0_1627  2022-06-18 05:55:31.816994   s_225494     c_103   f   1986   \n",
      "2       0_1104  2023-02-08 17:31:06.898425   s_338755     c_103   f   1986   \n",
      "3       0_1390  2021-04-20 06:18:39.939761    s_23078     c_103   f   1986   \n",
      "4       0_1547  2022-03-15 19:54:53.904123   s_179629     c_103   f   1986   \n",
      "...        ...                         ...        ...       ...  ..    ...   \n",
      "679527  0_1509  2021-05-15 08:17:35.835342    s_34762    c_8114   m   1962   \n",
      "679528   1_152  2021-11-08 17:12:27.637349   s_116675     c_240   m   1998   \n",
      "679529   2_207  2021-06-01 04:31:16.088314    s_42418     c_305   f   1996   \n",
      "679530   1_521  2022-10-18 00:38:49.629165   s_284060     c_305   f   1996   \n",
      "679531   1_521  2021-12-18 00:38:49.629165   s_135996     c_305   f   1996   \n",
      "\n",
      "        price  categ  \n",
      "0        4.18    0.0  \n",
      "1        3.99    0.0  \n",
      "2       13.21    0.0  \n",
      "3       19.37    0.0  \n",
      "4        8.99    0.0  \n",
      "...       ...    ...  \n",
      "679527   4.99    0.0  \n",
      "679528  11.06    1.0  \n",
      "679529  50.99    2.0  \n",
      "679530  22.99    1.0  \n",
      "679531  22.99    1.0  \n",
      "\n",
      "[679532 rows x 8 columns]>\n"
     ]
    }
   ],
   "source": [
    "# Création de l'index du dataset final\n",
    "\n",
    "lapage_final.set_index('date')\n",
    "print(lapage_final.columns)\n",
    "print(lapage_final.info)"
   ]
  },
  {
   "cell_type": "code",
   "execution_count": 20,
   "id": "a5668634",
   "metadata": {
    "scrolled": true
   },
   "outputs": [
    {
     "name": "stdout",
     "output_type": "stream",
     "text": [
      "  id_prod                        date session_id client_id sex  birth  price  \\\n",
      "0  0_1518  2022-05-20 13:21:29.043970   s_211425     c_103   f   1986   4.18   \n",
      "1  0_1627  2022-06-18 05:55:31.816994   s_225494     c_103   f   1986   3.99   \n",
      "2  0_1104  2023-02-08 17:31:06.898425   s_338755     c_103   f   1986  13.21   \n",
      "\n",
      "   categ  \n",
      "0    0.0  \n",
      "1    0.0  \n",
      "2    0.0  \n",
      "679332\n"
     ]
    }
   ],
   "source": [
    "# Suppression des valeurs test du dataset via l'id_prod \"tests\"\n",
    "\n",
    "indexNames = lapage_final[(lapage_final['id_prod'] == 'T_0')].index\n",
    "lapage_final.drop(indexNames , inplace=True)\n",
    "print(lapage_final.head(3))\n",
    "print(len(lapage_final))"
   ]
  },
  {
   "cell_type": "code",
   "execution_count": 21,
   "id": "419d94cd",
   "metadata": {},
   "outputs": [
    {
     "name": "stdout",
     "output_type": "stream",
     "text": [
      "<class 'pandas.core.frame.DataFrame'>\n",
      "Int64Index: 679332 entries, 0 to 679531\n",
      "Data columns (total 8 columns):\n",
      " #   Column      Non-Null Count   Dtype         \n",
      "---  ------      --------------   -----         \n",
      " 0   id_prod     679332 non-null  object        \n",
      " 1   date        679332 non-null  datetime64[ns]\n",
      " 2   session_id  679332 non-null  object        \n",
      " 3   client_id   679332 non-null  object        \n",
      " 4   sex         679332 non-null  object        \n",
      " 5   birth       679332 non-null  int64         \n",
      " 6   price       679111 non-null  float64       \n",
      " 7   categ       679111 non-null  float64       \n",
      "dtypes: datetime64[ns](1), float64(2), int64(1), object(4)\n",
      "memory usage: 46.6+ MB\n"
     ]
    }
   ],
   "source": [
    "# Conversion de la colonne 'date' en format dates\n",
    "\n",
    "lapage_final['date'] = pd.to_datetime(lapage_final['date'], format=\"%Y-%m-%d %H:%M:%S.%f\")\n",
    "lapage_final.info()"
   ]
  },
  {
   "cell_type": "code",
   "execution_count": 22,
   "id": "77fe60f3",
   "metadata": {},
   "outputs": [],
   "source": [
    "#Export csv de la table finale nettoyée\n",
    "gfg_csv_data = lapage_final.to_csv('lapage_final.csv', index = True)"
   ]
  },
  {
   "cell_type": "code",
   "execution_count": 23,
   "id": "d974d23c",
   "metadata": {},
   "outputs": [
    {
     "data": {
      "text/plain": [
       "<bound method DataFrame.info of         Unnamed: 0 id_prod                        date session_id client_id  \\\n",
       "0                0  0_1518  2022-05-20 13:21:29.043970   s_211425     c_103   \n",
       "1                1  0_1627  2022-06-18 05:55:31.816994   s_225494     c_103   \n",
       "2                2  0_1104  2023-02-08 17:31:06.898425   s_338755     c_103   \n",
       "3                3  0_1390  2021-04-20 06:18:39.939761    s_23078     c_103   \n",
       "4                4  0_1547  2022-03-15 19:54:53.904123   s_179629     c_103   \n",
       "...            ...     ...                         ...        ...       ...   \n",
       "679327      679527  0_1509  2021-05-15 08:17:35.835342    s_34762    c_8114   \n",
       "679328      679528   1_152  2021-11-08 17:12:27.637349   s_116675     c_240   \n",
       "679329      679529   2_207  2021-06-01 04:31:16.088314    s_42418     c_305   \n",
       "679330      679530   1_521  2022-10-18 00:38:49.629165   s_284060     c_305   \n",
       "679331      679531   1_521  2021-12-18 00:38:49.629165   s_135996     c_305   \n",
       "\n",
       "       sex  birth  price  categ  \n",
       "0        f   1986   4.18    0.0  \n",
       "1        f   1986   3.99    0.0  \n",
       "2        f   1986  13.21    0.0  \n",
       "3        f   1986  19.37    0.0  \n",
       "4        f   1986   8.99    0.0  \n",
       "...     ..    ...    ...    ...  \n",
       "679327   m   1962   4.99    0.0  \n",
       "679328   m   1998  11.06    1.0  \n",
       "679329   f   1996  50.99    2.0  \n",
       "679330   f   1996  22.99    1.0  \n",
       "679331   f   1996  22.99    1.0  \n",
       "\n",
       "[679332 rows x 9 columns]>"
      ]
     },
     "execution_count": 23,
     "metadata": {},
     "output_type": "execute_result"
    }
   ],
   "source": [
    "# Import de la sauvegarde intermédiaire\n",
    "\n",
    "lapage_final = pd.read_csv ('lapage_final.csv', sep=',')\n",
    "lapage_final.head()\n",
    "lapage_final.info"
   ]
  },
  {
   "cell_type": "code",
   "execution_count": 24,
   "id": "ef147b56",
   "metadata": {},
   "outputs": [
    {
     "name": "stdout",
     "output_type": "stream",
     "text": [
      "<bound method DataFrame.info of         Unnamed: 0 id_prod                        date session_id client_id  \\\n",
      "0                0  0_1518  2022-05-20 13:21:29.043970   s_211425     c_103   \n",
      "1                1  0_1627  2022-06-18 05:55:31.816994   s_225494     c_103   \n",
      "2                2  0_1104  2023-02-08 17:31:06.898425   s_338755     c_103   \n",
      "3                3  0_1390  2021-04-20 06:18:39.939761    s_23078     c_103   \n",
      "4                4  0_1547  2022-03-15 19:54:53.904123   s_179629     c_103   \n",
      "...            ...     ...                         ...        ...       ...   \n",
      "679327      679527  0_1509  2021-05-15 08:17:35.835342    s_34762    c_8114   \n",
      "679328      679528   1_152  2021-11-08 17:12:27.637349   s_116675     c_240   \n",
      "679329      679529   2_207  2021-06-01 04:31:16.088314    s_42418     c_305   \n",
      "679330      679530   1_521  2022-10-18 00:38:49.629165   s_284060     c_305   \n",
      "679331      679531   1_521  2021-12-18 00:38:49.629165   s_135996     c_305   \n",
      "\n",
      "       sex  birth  price  categ  \n",
      "0        f   1986   4.18    0.0  \n",
      "1        f   1986   3.99    0.0  \n",
      "2        f   1986  13.21    0.0  \n",
      "3        f   1986  19.37    0.0  \n",
      "4        f   1986   8.99    0.0  \n",
      "...     ..    ...    ...    ...  \n",
      "679327   m   1962   4.99    0.0  \n",
      "679328   m   1998  11.06    1.0  \n",
      "679329   f   1996  50.99    2.0  \n",
      "679330   f   1996  22.99    1.0  \n",
      "679331   f   1996  22.99    1.0  \n",
      "\n",
      "[679332 rows x 9 columns]>\n"
     ]
    }
   ],
   "source": [
    "# Vérification suite à la suppression des valeurs tests\n",
    "\n",
    "print(lapage_final.info)"
   ]
  },
  {
   "cell_type": "code",
   "execution_count": 25,
   "id": "c53e5713",
   "metadata": {},
   "outputs": [
    {
     "name": "stdout",
     "output_type": "stream",
     "text": [
      "        Unnamed: 0 id_prod                        date session_id client_id  \\\n",
      "89425        89425  0_1398  2023-02-28 23:58:30.792755   s_348435    c_3575   \n",
      "470492      470598  0_1547  2023-02-28 23:58:00.107815   s_348447    c_4848   \n",
      "196232      196232   1_695  2023-02-28 23:53:18.929676   s_348446     c_488   \n",
      "\n",
      "       sex  birth  price  categ  \n",
      "89425    f   1981   4.52    0.0  \n",
      "470492   m   1953   8.99    0.0  \n",
      "196232   f   1985  26.99    1.0  \n",
      "        Unnamed: 0 id_prod                        date session_id client_id  \\\n",
      "467519      467625  0_1259  2021-03-01 00:01:07.843138        s_1     c_329   \n",
      "244742      244742  0_1390  2021-03-01 00:02:26.047414        s_2     c_664   \n",
      "124034      124034  0_1352  2021-03-01 00:02:38.311413        s_3     c_580   \n",
      "\n",
      "       sex  birth  price  categ  \n",
      "467519   f   1967  11.99    0.0  \n",
      "244742   m   1960  19.37    0.0  \n",
      "124034   m   1988   4.50    0.0  \n",
      "\n",
      "Le fichier débute donc à la transaction 480642    2021-03-01 00:01:07.843138\n",
      "Name: date, dtype: object  et se termine donc à la transaction 89425    2023-02-28 23:58:30.792755\n",
      "Name: date, dtype: object .\n"
     ]
    }
   ],
   "source": [
    "# Suite des vérifications après nettoyage\n",
    "\n",
    "print(lapage_final.sort_values([\"date\"], ascending=False).head(3))\n",
    "print(lapage_final.sort_values([\"date\"], ascending=True).head(3))\n",
    "print(\"\")\n",
    "fin = lapage_final['date'].sort_values(ascending=False).head(1)\n",
    "print(\"Le fichier débute donc à la transaction\", debut, \" et se termine donc à la transaction\", fin ,\".\" )\n"
   ]
  },
  {
   "cell_type": "code",
   "execution_count": 26,
   "id": "45630503",
   "metadata": {
    "scrolled": true
   },
   "outputs": [
    {
     "name": "stdout",
     "output_type": "stream",
     "text": [
      "Unnamed: 0    False\n",
      "id_prod       False\n",
      "date          False\n",
      "session_id    False\n",
      "client_id     False\n",
      "sex           False\n",
      "birth         False\n",
      "price          True\n",
      "categ          True\n",
      "dtype: bool\n",
      "Unnamed: 0      0\n",
      "id_prod         0\n",
      "date            0\n",
      "session_id      0\n",
      "client_id       0\n",
      "sex             0\n",
      "birth           0\n",
      "price         221\n",
      "categ         221\n",
      "dtype: int64\n"
     ]
    }
   ],
   "source": [
    "#Méthode .isnull() ou .isna())sur la table finale, renvoi de booléens par colonne\n",
    "\n",
    "print(lapage_final.isnull().any())\n",
    "print(lapage_final.isnull().sum())"
   ]
  },
  {
   "cell_type": "markdown",
   "id": "0c965deb",
   "metadata": {},
   "source": [
    "Identification de 221 valeurs nulles dans les colonnes \"price\" et \"categ\" ...\n",
    "\n",
    "Création d'une table temporaire permettant d'isoler cette valeur nulle et d'apporter les modifications nécessaires."
   ]
  },
  {
   "cell_type": "code",
   "execution_count": 27,
   "id": "fa06ab21",
   "metadata": {},
   "outputs": [
    {
     "name": "stdout",
     "output_type": "stream",
     "text": [
      "Confirmation du bon nombre de valeurs concernées : 221\n"
     ]
    }
   ],
   "source": [
    "#Aucun id produit manquant, il est intéressant de détecter le ou les produits concernés par les valeurs manquantes\n",
    "\n",
    "lapage_final_null = lapage_final[lapage_final.categ.isnull() == True]\n",
    "print(\"Confirmation du bon nombre de valeurs concernées :\",len(lapage_final_null))"
   ]
  },
  {
   "cell_type": "code",
   "execution_count": 28,
   "id": "be9195c4",
   "metadata": {},
   "outputs": [
    {
     "name": "stdout",
     "output_type": "stream",
     "text": [
      "id_prod ayant les valeurs 'categ' et 'price' manquantes : ['0_2245'] .\n",
      "Ce produit a été vendu 221 fois.\n",
      "Il représente 0.03253195786449041 % du nombre total de ventes.\n"
     ]
    }
   ],
   "source": [
    "#Recherche du ou des produits concernés\n",
    "\n",
    "print(\"id_prod ayant les valeurs 'categ' et 'price' manquantes :\", lapage_final_null.id_prod.unique(), \".\")\n",
    "print(\"Ce produit a été vendu\", len(lapage_final_null),\"fois.\")\n",
    "print(\"Il représente\", len(lapage_final_null) / len(lapage_final) *100, \"% du nombre total de ventes.\")"
   ]
  },
  {
   "cell_type": "code",
   "execution_count": 29,
   "id": "1f3b9ae8",
   "metadata": {},
   "outputs": [
    {
     "name": "stdout",
     "output_type": "stream",
     "text": [
      "False\n"
     ]
    }
   ],
   "source": [
    "#Exactement 221 lignes non exploitables pour le produit id 0_2245\n",
    "#Il est préférable de les conserver en remplacant les prix NaN par le prix moyen\n",
    "\n",
    "lapage_final['price'] = lapage_final.price.fillna(lapage_final.price.mean())\n",
    "\n",
    "# Confirmation du remplacement de données\n",
    "print(lapage_final['price'].isnull().any())"
   ]
  },
  {
   "cell_type": "code",
   "execution_count": 30,
   "id": "308a3c7d",
   "metadata": {},
   "outputs": [
    {
     "name": "stdout",
     "output_type": "stream",
     "text": [
      "False\n"
     ]
    }
   ],
   "source": [
    "#Le produit id 0_2245 doit-être classifié en catégorie 0, il commence par \"0_\"\n",
    "#Méthode .fillna() pour remplacer les NaN de la variable catégorie par 0\n",
    "\n",
    "lapage_final['categ'] = lapage_final.categ.fillna(0)['categ'] = lapage_final.categ.fillna(0)\n",
    "\n",
    "# Confirmation du remplacement de données\n",
    "print(lapage_final['categ'].isnull().any())"
   ]
  },
  {
   "cell_type": "markdown",
   "id": "ee99faff",
   "metadata": {},
   "source": [
    "Le produit avec l'id 0_2245 a donc désormais pour prix le prix moyen des articles de la boutique.\n",
    "\n",
    "Il y a désormais aucune valeur nulle dans la table finale, que nous allons pouvoir analyser !"
   ]
  },
  {
   "cell_type": "code",
   "execution_count": 31,
   "id": "d3567c9a",
   "metadata": {},
   "outputs": [
    {
     "name": "stdout",
     "output_type": "stream",
     "text": [
      "<bound method DataFrame.info of         Unnamed: 0 id_prod                        date session_id client_id  \\\n",
      "0                0  0_1518  2022-05-20 13:21:29.043970   s_211425     c_103   \n",
      "1                1  0_1627  2022-06-18 05:55:31.816994   s_225494     c_103   \n",
      "2                2  0_1104  2023-02-08 17:31:06.898425   s_338755     c_103   \n",
      "3                3  0_1390  2021-04-20 06:18:39.939761    s_23078     c_103   \n",
      "4                4  0_1547  2022-03-15 19:54:53.904123   s_179629     c_103   \n",
      "...            ...     ...                         ...        ...       ...   \n",
      "679327      679527  0_1509  2021-05-15 08:17:35.835342    s_34762    c_8114   \n",
      "679328      679528   1_152  2021-11-08 17:12:27.637349   s_116675     c_240   \n",
      "679329      679529   2_207  2021-06-01 04:31:16.088314    s_42418     c_305   \n",
      "679330      679530   1_521  2022-10-18 00:38:49.629165   s_284060     c_305   \n",
      "679331      679531   1_521  2021-12-18 00:38:49.629165   s_135996     c_305   \n",
      "\n",
      "       sex  birth  price  categ  \n",
      "0        f   1986   4.18    0.0  \n",
      "1        f   1986   3.99    0.0  \n",
      "2        f   1986  13.21    0.0  \n",
      "3        f   1986  19.37    0.0  \n",
      "4        f   1986   8.99    0.0  \n",
      "...     ..    ...    ...    ...  \n",
      "679327   m   1962   4.99    0.0  \n",
      "679328   m   1998  11.06    1.0  \n",
      "679329   f   1996  50.99    2.0  \n",
      "679330   f   1996  22.99    1.0  \n",
      "679331   f   1996  22.99    1.0  \n",
      "\n",
      "[679332 rows x 9 columns]>\n"
     ]
    }
   ],
   "source": [
    "# Confirmation de la validité de la table finale et sauvegarde finale\n",
    "\n",
    "print(lapage_final.info)\n",
    "\n",
    "#Export csv intermédiaire de la table\n",
    "\n",
    "gfg_csv_data = lapage_final.to_csv('lapage_final2.csv', index = True)"
   ]
  },
  {
   "cell_type": "markdown",
   "id": "f77a50c2",
   "metadata": {},
   "source": [
    "# Division en deux tables distinctes afin de comparer les deux années d'exercice"
   ]
  },
  {
   "cell_type": "code",
   "execution_count": 32,
   "id": "e18b00b8",
   "metadata": {
    "scrolled": true
   },
   "outputs": [],
   "source": [
    "# Division de la table finale en deux années distinctes, afin de valoriser nos analyses et de comparer les deux années\n",
    "\n",
    "ventes_annee1 = lapage_final[(lapage_final['date'] > '2021-03-01') & (lapage_final['date'] < '2022-03-01')]\n",
    "ventes_annee2 = lapage_final[(lapage_final['date'] > '2022-03-01') & (lapage_final['date'] < '2023-03-01')]"
   ]
  },
  {
   "cell_type": "code",
   "execution_count": 33,
   "id": "076fbebb",
   "metadata": {},
   "outputs": [
    {
     "data": {
      "text/html": [
       "<div>\n",
       "<style scoped>\n",
       "    .dataframe tbody tr th:only-of-type {\n",
       "        vertical-align: middle;\n",
       "    }\n",
       "\n",
       "    .dataframe tbody tr th {\n",
       "        vertical-align: top;\n",
       "    }\n",
       "\n",
       "    .dataframe thead th {\n",
       "        text-align: right;\n",
       "    }\n",
       "</style>\n",
       "<table border=\"1\" class=\"dataframe\">\n",
       "  <thead>\n",
       "    <tr style=\"text-align: right;\">\n",
       "      <th></th>\n",
       "      <th>Unnamed: 0</th>\n",
       "      <th>id_prod</th>\n",
       "      <th>date</th>\n",
       "      <th>session_id</th>\n",
       "      <th>client_id</th>\n",
       "      <th>sex</th>\n",
       "      <th>birth</th>\n",
       "      <th>price</th>\n",
       "      <th>categ</th>\n",
       "    </tr>\n",
       "  </thead>\n",
       "  <tbody>\n",
       "    <tr>\n",
       "      <th>3</th>\n",
       "      <td>3</td>\n",
       "      <td>0_1390</td>\n",
       "      <td>2021-04-20 06:18:39.939761</td>\n",
       "      <td>s_23078</td>\n",
       "      <td>c_103</td>\n",
       "      <td>f</td>\n",
       "      <td>1986</td>\n",
       "      <td>19.37</td>\n",
       "      <td>0.0</td>\n",
       "    </tr>\n",
       "    <tr>\n",
       "      <th>10</th>\n",
       "      <td>10</td>\n",
       "      <td>0_1081</td>\n",
       "      <td>2021-03-09 23:39:00.516106</td>\n",
       "      <td>s_4122</td>\n",
       "      <td>c_103</td>\n",
       "      <td>f</td>\n",
       "      <td>1986</td>\n",
       "      <td>11.99</td>\n",
       "      <td>0.0</td>\n",
       "    </tr>\n",
       "    <tr>\n",
       "      <th>11</th>\n",
       "      <td>11</td>\n",
       "      <td>0_1571</td>\n",
       "      <td>2021-06-01 03:37:25.411290</td>\n",
       "      <td>s_42385</td>\n",
       "      <td>c_103</td>\n",
       "      <td>f</td>\n",
       "      <td>1986</td>\n",
       "      <td>5.99</td>\n",
       "      <td>0.0</td>\n",
       "    </tr>\n",
       "    <tr>\n",
       "      <th>13</th>\n",
       "      <td>13</td>\n",
       "      <td>0_2054</td>\n",
       "      <td>2021-03-23 10:56:28.248664</td>\n",
       "      <td>s_10325</td>\n",
       "      <td>c_103</td>\n",
       "      <td>f</td>\n",
       "      <td>1986</td>\n",
       "      <td>10.58</td>\n",
       "      <td>0.0</td>\n",
       "    </tr>\n",
       "    <tr>\n",
       "      <th>14</th>\n",
       "      <td>14</td>\n",
       "      <td>0_1621</td>\n",
       "      <td>2021-12-27 22:38:49.616287</td>\n",
       "      <td>s_141025</td>\n",
       "      <td>c_103</td>\n",
       "      <td>f</td>\n",
       "      <td>1986</td>\n",
       "      <td>17.99</td>\n",
       "      <td>0.0</td>\n",
       "    </tr>\n",
       "    <tr>\n",
       "      <th>...</th>\n",
       "      <td>...</td>\n",
       "      <td>...</td>\n",
       "      <td>...</td>\n",
       "      <td>...</td>\n",
       "      <td>...</td>\n",
       "      <td>...</td>\n",
       "      <td>...</td>\n",
       "      <td>...</td>\n",
       "      <td>...</td>\n",
       "    </tr>\n",
       "    <tr>\n",
       "      <th>679325</th>\n",
       "      <td>679525</td>\n",
       "      <td>2_108</td>\n",
       "      <td>2021-06-21 15:36:44.913497</td>\n",
       "      <td>s_51791</td>\n",
       "      <td>c_3615</td>\n",
       "      <td>f</td>\n",
       "      <td>2004</td>\n",
       "      <td>63.36</td>\n",
       "      <td>2.0</td>\n",
       "    </tr>\n",
       "    <tr>\n",
       "      <th>679327</th>\n",
       "      <td>679527</td>\n",
       "      <td>0_1509</td>\n",
       "      <td>2021-05-15 08:17:35.835342</td>\n",
       "      <td>s_34762</td>\n",
       "      <td>c_8114</td>\n",
       "      <td>m</td>\n",
       "      <td>1962</td>\n",
       "      <td>4.99</td>\n",
       "      <td>0.0</td>\n",
       "    </tr>\n",
       "    <tr>\n",
       "      <th>679328</th>\n",
       "      <td>679528</td>\n",
       "      <td>1_152</td>\n",
       "      <td>2021-11-08 17:12:27.637349</td>\n",
       "      <td>s_116675</td>\n",
       "      <td>c_240</td>\n",
       "      <td>m</td>\n",
       "      <td>1998</td>\n",
       "      <td>11.06</td>\n",
       "      <td>1.0</td>\n",
       "    </tr>\n",
       "    <tr>\n",
       "      <th>679329</th>\n",
       "      <td>679529</td>\n",
       "      <td>2_207</td>\n",
       "      <td>2021-06-01 04:31:16.088314</td>\n",
       "      <td>s_42418</td>\n",
       "      <td>c_305</td>\n",
       "      <td>f</td>\n",
       "      <td>1996</td>\n",
       "      <td>50.99</td>\n",
       "      <td>2.0</td>\n",
       "    </tr>\n",
       "    <tr>\n",
       "      <th>679331</th>\n",
       "      <td>679531</td>\n",
       "      <td>1_521</td>\n",
       "      <td>2021-12-18 00:38:49.629165</td>\n",
       "      <td>s_135996</td>\n",
       "      <td>c_305</td>\n",
       "      <td>f</td>\n",
       "      <td>1996</td>\n",
       "      <td>22.99</td>\n",
       "      <td>1.0</td>\n",
       "    </tr>\n",
       "  </tbody>\n",
       "</table>\n",
       "<p>337288 rows × 9 columns</p>\n",
       "</div>"
      ],
      "text/plain": [
       "        Unnamed: 0 id_prod                        date session_id client_id  \\\n",
       "3                3  0_1390  2021-04-20 06:18:39.939761    s_23078     c_103   \n",
       "10              10  0_1081  2021-03-09 23:39:00.516106     s_4122     c_103   \n",
       "11              11  0_1571  2021-06-01 03:37:25.411290    s_42385     c_103   \n",
       "13              13  0_2054  2021-03-23 10:56:28.248664    s_10325     c_103   \n",
       "14              14  0_1621  2021-12-27 22:38:49.616287   s_141025     c_103   \n",
       "...            ...     ...                         ...        ...       ...   \n",
       "679325      679525   2_108  2021-06-21 15:36:44.913497    s_51791    c_3615   \n",
       "679327      679527  0_1509  2021-05-15 08:17:35.835342    s_34762    c_8114   \n",
       "679328      679528   1_152  2021-11-08 17:12:27.637349   s_116675     c_240   \n",
       "679329      679529   2_207  2021-06-01 04:31:16.088314    s_42418     c_305   \n",
       "679331      679531   1_521  2021-12-18 00:38:49.629165   s_135996     c_305   \n",
       "\n",
       "       sex  birth  price  categ  \n",
       "3        f   1986  19.37    0.0  \n",
       "10       f   1986  11.99    0.0  \n",
       "11       f   1986   5.99    0.0  \n",
       "13       f   1986  10.58    0.0  \n",
       "14       f   1986  17.99    0.0  \n",
       "...     ..    ...    ...    ...  \n",
       "679325   f   2004  63.36    2.0  \n",
       "679327   m   1962   4.99    0.0  \n",
       "679328   m   1998  11.06    1.0  \n",
       "679329   f   1996  50.99    2.0  \n",
       "679331   f   1996  22.99    1.0  \n",
       "\n",
       "[337288 rows x 9 columns]"
      ]
     },
     "execution_count": 33,
     "metadata": {},
     "output_type": "execute_result"
    }
   ],
   "source": [
    "ventes_annee1"
   ]
  },
  {
   "cell_type": "markdown",
   "id": "e10600e8",
   "metadata": {},
   "source": [
    "# Analyse du chiffre d'affaires"
   ]
  },
  {
   "cell_type": "code",
   "execution_count": 34,
   "id": "fa51b190",
   "metadata": {
    "scrolled": true
   },
   "outputs": [
    {
     "name": "stdout",
     "output_type": "stream",
     "text": [
      "Chiffre d'affaires global : 11857586.18494145\n"
     ]
    }
   ],
   "source": [
    "print(\"Chiffre d'affaires global :\", ventes_annee1['price'].sum() + ventes_annee2['price'].sum())"
   ]
  },
  {
   "cell_type": "code",
   "execution_count": 35,
   "id": "154238d1",
   "metadata": {},
   "outputs": [
    {
     "name": "stdout",
     "output_type": "stream",
     "text": [
      "337288 transactions pour la première année de l'analyse\n",
      "342044 transactions pour la deuxième année de l'analyse\n",
      "\n",
      "679332 transactions au total. Nos deux tables distinctes sont donc cohérentes et prêtes pour les analyses.\n"
     ]
    }
   ],
   "source": [
    "print(len(ventes_annee1), \"transactions pour la première année de l'analyse\")\n",
    "print(len(ventes_annee2), \"transactions pour la deuxième année de l'analyse\")\n",
    "print(\"\")\n",
    "print(len(ventes_annee1) + len(ventes_annee2), \"transactions au total. Nos deux tables distinctes sont donc cohérentes et prêtes pour les analyses.\")"
   ]
  },
  {
   "cell_type": "code",
   "execution_count": 36,
   "id": "bf7b9530",
   "metadata": {},
   "outputs": [
    {
     "name": "stderr",
     "output_type": "stream",
     "text": [
      "/var/folders/gp/y1r_c8817xz9052n5c2hvkmw0000gn/T/ipykernel_6640/2791056248.py:1: SettingWithCopyWarning: \n",
      "A value is trying to be set on a copy of a slice from a DataFrame.\n",
      "Try using .loc[row_indexer,col_indexer] = value instead\n",
      "\n",
      "See the caveats in the documentation: https://pandas.pydata.org/pandas-docs/stable/user_guide/indexing.html#returning-a-view-versus-a-copy\n",
      "  ventes_annee1['date'] = pd.to_datetime(ventes_annee1['date'])\n",
      "/var/folders/gp/y1r_c8817xz9052n5c2hvkmw0000gn/T/ipykernel_6640/2791056248.py:2: SettingWithCopyWarning: \n",
      "A value is trying to be set on a copy of a slice from a DataFrame.\n",
      "Try using .loc[row_indexer,col_indexer] = value instead\n",
      "\n",
      "See the caveats in the documentation: https://pandas.pydata.org/pandas-docs/stable/user_guide/indexing.html#returning-a-view-versus-a-copy\n",
      "  ventes_annee2['date'] = pd.to_datetime(ventes_annee2['date'])\n"
     ]
    }
   ],
   "source": [
    "ventes_annee1['date'] = pd.to_datetime(ventes_annee1['date'])\n",
    "ventes_annee2['date'] = pd.to_datetime(ventes_annee2['date'])"
   ]
  },
  {
   "cell_type": "code",
   "execution_count": 118,
   "id": "ca661a04",
   "metadata": {},
   "outputs": [
    {
     "name": "stdout",
     "output_type": "stream",
     "text": [
      "Chiffre d'affaires de la première année : 5833534.891669544\n",
      "Chiffre d'affaires de la deuxième année : 6024051.293271905\n"
     ]
    }
   ],
   "source": [
    "# Regroupement des données en chiffres d'affaires mensuels\n",
    "\n",
    "ventes_mois_annee1 = ventes_annee1.groupby(pd.Grouper(key='date', freq='M'))['price'].sum()\n",
    "ventes_mois_annee2 = ventes_annee2.groupby(pd.Grouper(key='date', freq='M'))['price'].sum()\n",
    "print(\"Chiffre d'affaires de la première année :\", ventes_mois_annee1.sum())\n",
    "print(\"Chiffre d'affaires de la deuxième année :\", ventes_mois_annee2.sum())"
   ]
  },
  {
   "cell_type": "markdown",
   "id": "402c8de5",
   "metadata": {},
   "source": [
    "Belle évolution du chiffre d'affaires : \n",
    "+ 190K€ environ soit 3,2% d'évolution\n",
    "+ 5 000 transactions de plus d'une année à l'autre"
   ]
  },
  {
   "cell_type": "code",
   "execution_count": 119,
   "id": "21ff8929",
   "metadata": {},
   "outputs": [
    {
     "name": "stdout",
     "output_type": "stream",
     "text": [
      "Moyenne mobile Année 1 : \n",
      "\n",
      "date\n",
      "2021-03-31              NaN\n",
      "2021-04-30              NaN\n",
      "2021-05-31    484011.492659\n",
      "2021-06-30    484549.172810\n",
      "2021-07-31    486733.023565\n",
      "2021-08-31    483185.948490\n",
      "2021-09-30    490932.413112\n",
      "2021-10-31    436937.647886\n",
      "2021-11-30    448237.779477\n",
      "2021-12-31    454434.221521\n",
      "2022-01-31    522602.668339\n",
      "2022-02-28    529076.409930\n",
      "Freq: M, Name: price, dtype: float64\n"
     ]
    }
   ],
   "source": [
    "mobile1 = ventes_mois_annee1.rolling(3).mean()\n",
    "print(\"Moyenne mobile Année 1 : \\n\")\n",
    "print(mobile1)"
   ]
  },
  {
   "cell_type": "code",
   "execution_count": 120,
   "id": "c00e41c3",
   "metadata": {},
   "outputs": [
    {
     "name": "stdout",
     "output_type": "stream",
     "text": [
      "Moyenne mobile Année 2 : \n",
      "\n",
      "date\n",
      "2022-03-31              NaN\n",
      "2022-04-30              NaN\n",
      "2022-05-31    508767.905238\n",
      "2022-06-30    502264.495540\n",
      "2022-07-31    508180.919024\n",
      "2022-08-31    504579.262961\n",
      "2022-09-30    503957.036144\n",
      "2022-10-31    502990.282961\n",
      "2022-11-30    499740.294402\n",
      "2022-12-31    505091.162961\n",
      "2023-01-31    508281.301521\n",
      "2023-02-28    494929.635157\n",
      "Freq: M, Name: price, dtype: float64\n"
     ]
    }
   ],
   "source": [
    "mobile2 = ventes_mois_annee2.rolling(3).mean()\n",
    "print(\"Moyenne mobile Année 2 : \\n\")\n",
    "print(mobile2)"
   ]
  },
  {
   "cell_type": "code",
   "execution_count": 121,
   "id": "c18ea587",
   "metadata": {
    "scrolled": true
   },
   "outputs": [
    {
     "data": {
      "image/png": "[encoded data removed]",
      "text/plain": [
       "<Figure size 576x360 with 1 Axes>"
      ]
     },
     "metadata": {
      "needs_background": "light"
     },
     "output_type": "display_data"
    }
   ],
   "source": [
    "plt.figure(figsize = (8, 5))\n",
    "plt.plot(ventes_mois_annee1)\n",
    "plt.plot(mobile1)\n",
    "plt.title('Ventes de la librairie Lapage pour la première année')\n",
    "plt.xlabel('Mois - Année')\n",
    "plt.ylabel('Chiffre d affaires')\n",
    "plt.grid(True)\n",
    "plt.show()\n",
    "plt.savefig('evolution_ca1.pdf', dpi = 500); plt.close()"
   ]
  },
  {
   "cell_type": "markdown",
   "id": "04f07c07",
   "metadata": {},
   "source": [
    "On constate une baisse importante d'environ un tiers du chiffre d'affaires en octobre 2021, comparativement aux autres mois."
   ]
  },
  {
   "cell_type": "code",
   "execution_count": 122,
   "id": "91f0722e",
   "metadata": {},
   "outputs": [
    {
     "data": {
      "image/png": "[encoded data removed]",
      "text/plain": [
       "<Figure size 576x360 with 1 Axes>"
      ]
     },
     "metadata": {
      "needs_background": "light"
     },
     "output_type": "display_data"
    }
   ],
   "source": [
    "plt.figure(figsize = (8, 5))\n",
    "\n",
    "plt.plot(ventes_mois_annee2)\n",
    "plt.plot(mobile2)\n",
    "plt.title('Ventes de la librairie Lapage pour la deuxième année')\n",
    "plt.xlabel('Mois - Année')\n",
    "plt.ylabel('Chiffre d affaires')\n",
    "plt.grid(True)\n",
    "plt.show()\n",
    "plt.savefig('evolution_ca2.pdf', dpi = 600); plt.close()"
   ]
  },
  {
   "cell_type": "markdown",
   "id": "49d01ef2",
   "metadata": {},
   "source": [
    "On constate un chiffre d'affaires \"en dents de scie\" pour la deuxième année d'exercice, un emoyenne mobile légérement supérieure à 500K€, et une baisse plus marquée au mois de mars 2023."
   ]
  },
  {
   "cell_type": "markdown",
   "id": "a2a72598",
   "metadata": {},
   "source": [
    "# Baisse des ventes en octobre 2021 : Que s'est-il passé ?"
   ]
  },
  {
   "cell_type": "code",
   "execution_count": 123,
   "id": "e207dbe6",
   "metadata": {},
   "outputs": [
    {
     "name": "stdout",
     "output_type": "stream",
     "text": [
      "Nombre de ventes totales : 22917\n",
      "Ventes par catégories du mois d'octobre : categ\n",
      "0.0    209346.963414\n",
      "1.0     40682.770000\n",
      "2.0     89019.200000\n",
      "Name: price, dtype: float64\n",
      "Nombre de ventes totales : 29259\n",
      "Ventes par catégories du mois de novembre : categ\n",
      "0.0    162008.177735\n",
      "1.0    260172.060000\n",
      "2.0    110567.160000\n",
      "Name: price, dtype: float64\n",
      "\n",
      "Il semble y avoir un manque de chiffre d'affaires dans la catégorie 1. Continuons l'enquête !\n"
     ]
    }
   ],
   "source": [
    "# Isoler les valeurs du mois d'octobre\n",
    "\n",
    "ventes_oct_J = ventes_annee1[(ventes_annee1['date'] > '2021-09-30') & (ventes_annee1['date'] < '2021-11-01')]\n",
    "print(\"Nombre de ventes totales :\",len(ventes_oct_J))\n",
    "\n",
    "# Analyse par catégories\n",
    "ventes_oct_categ = ventes_oct_J.groupby(['categ'])['price'].sum()\n",
    "print(\"Ventes par catégories du mois d'octobre :\", ventes_oct_categ)\n",
    "\n",
    "# Comparaison avec le mois de novembre\n",
    "ventes_nov_J = ventes_annee1[(ventes_annee1['date'] > '2021-10-31') & (ventes_annee1['date'] < '2021-12-01')]\n",
    "print(\"Nombre de ventes totales :\",len(ventes_nov_J))\n",
    "\n",
    "ventes_nov_categ = ventes_nov_J.groupby(['categ'])['price'].sum()\n",
    "print(\"Ventes par catégories du mois de novembre :\", ventes_nov_categ)\n",
    "print(\"\")\n",
    "print(\"Il semble y avoir un manque de chiffre d'affaires dans la catégorie 1. Continuons l'enquête !\")"
   ]
  },
  {
   "cell_type": "code",
   "execution_count": 124,
   "id": "a549c4d4",
   "metadata": {},
   "outputs": [
    {
     "name": "stdout",
     "output_type": "stream",
     "text": [
      "Nombre de transactions pour la catégorie 1 en octobre 2021 :  2008\n",
      "Nombre de transactions pour la catégorie 1 en novembre 2021 :  12658\n"
     ]
    }
   ],
   "source": [
    "# Comparaison du nombre de valeurs pour la catégorie 1\n",
    "\n",
    "ventes_oct_J1 = sum(map(lambda x : x%2 == 1, ventes_oct_J['categ']))\n",
    "print('Nombre de transactions pour la catégorie 1 en octobre 2021 : ', ventes_oct_J1)\n",
    "\n",
    "ventes_nov_J1 = sum(map(lambda x : x%2 == 1, ventes_nov_J['categ']))\n",
    "print('Nombre de transactions pour la catégorie 1 en novembre 2021 : ', ventes_nov_J1)"
   ]
  },
  {
   "cell_type": "code",
   "execution_count": 125,
   "id": "1b72030d",
   "metadata": {},
   "outputs": [
    {
     "name": "stdout",
     "output_type": "stream",
     "text": [
      "Nombre de transactions pour la catégorie 1 en octobre 2021 :  2008\n",
      "Nombre de transactions pour la catégorie 0 en octobre 2021 :  20909\n",
      "Nombre de transactions pour la catégorie 0 en novembre 2021 :  16601\n"
     ]
    }
   ],
   "source": [
    "# Comparatif avec la catégorie 0\n",
    "ventes_oct_J1 = sum(map(lambda x : x%2 == 1, ventes_oct_J['categ']))\n",
    "print('Nombre de transactions pour la catégorie 1 en octobre 2021 : ', ventes_oct_J1)\n",
    "\n",
    "ventes_oct_J0 = sum(map(lambda x : x%2 == 0, ventes_oct_J['categ']))\n",
    "print('Nombre de transactions pour la catégorie 0 en octobre 2021 : ', ventes_oct_J0)\n",
    "\n",
    "ventes_nov_J0 = sum(map(lambda x : x%2 == 0, ventes_nov_J['categ']))\n",
    "print('Nombre de transactions pour la catégorie 0 en novembre 2021 : ', ventes_nov_J0)"
   ]
  },
  {
   "cell_type": "markdown",
   "id": "337fee9a",
   "metadata": {},
   "source": [
    "On observe très nettement un manque de ventes pour la catégorie 1 en octobre 2021."
   ]
  },
  {
   "cell_type": "code",
   "execution_count": 126,
   "id": "24b83910",
   "metadata": {
    "scrolled": true
   },
   "outputs": [
    {
     "name": "stdout",
     "output_type": "stream",
     "text": [
      "Chiffre d'affaires moyen pour la catégorie 1 en octobre 2021 : 10595.279169201098\n",
      "date\n",
      "2021-09-30    18128.010000\n",
      "2021-10-01    17058.340000\n",
      "2021-10-02     9182.130000\n",
      "2021-10-03     8993.050000\n",
      "2021-10-04     9314.589547\n",
      "2021-10-05     9390.460000\n",
      "2021-10-06     9490.690000\n",
      "2021-10-07     8191.080000\n",
      "2021-10-08    10207.350000\n",
      "2021-10-09     9425.360000\n",
      "2021-10-10     8825.650000\n",
      "2021-10-11    10230.560000\n",
      "2021-10-12     8971.150000\n",
      "2021-10-13     9427.220000\n",
      "2021-10-14     9469.780000\n",
      "2021-10-15     9416.284773\n",
      "2021-10-16    10229.020000\n",
      "2021-10-17     9557.980000\n",
      "2021-10-18     9083.720000\n",
      "2021-10-19     8636.619547\n",
      "2021-10-20     9038.644773\n",
      "2021-10-21     9571.790000\n",
      "2021-10-22     8467.860000\n",
      "2021-10-23     8910.640000\n",
      "2021-10-24     9923.190000\n",
      "2021-10-25     8076.040000\n",
      "2021-10-26     9038.244773\n",
      "2021-10-27     9789.530000\n",
      "2021-10-28    14758.420000\n",
      "2021-10-29    16453.630000\n",
      "2021-10-30    15386.780000\n",
      "2021-10-31    16405.120000\n",
      "Freq: D, Name: price, dtype: float64\n"
     ]
    }
   ],
   "source": [
    "# Vérification des dates de vente pour la catégorie en octobre 2021\n",
    "\n",
    "ventes_oct_DbyD = ventes_oct_J.groupby(pd.Grouper(key='date', freq='D'))['price'].sum(['categ'] == '1')\n",
    "print(\"Chiffre d'affaires moyen pour la catégorie 1 en octobre 2021 :\", ventes_oct_DbyD.mean())\n",
    "print(ventes_oct_DbyD)"
   ]
  },
  {
   "cell_type": "code",
   "execution_count": 127,
   "id": "20c7bc7b",
   "metadata": {},
   "outputs": [
    {
     "name": "stdout",
     "output_type": "stream",
     "text": [
      "Chiffre d'affaires moyen journalier pour la catégorie 1 en novembre 2021 : 17185.399926932492\n"
     ]
    },
    {
     "name": "stderr",
     "output_type": "stream",
     "text": [
      "/var/folders/gp/y1r_c8817xz9052n5c2hvkmw0000gn/T/ipykernel_6640/2990262216.py:3: SettingWithCopyWarning: \n",
      "A value is trying to be set on a copy of a slice from a DataFrame.\n",
      "Try using .loc[row_indexer,col_indexer] = value instead\n",
      "\n",
      "See the caveats in the documentation: https://pandas.pydata.org/pandas-docs/stable/user_guide/indexing.html#returning-a-view-versus-a-copy\n",
      "  ventes_nov_J['date'] = pd.to_datetime(ventes_nov_J['date'])\n"
     ]
    }
   ],
   "source": [
    "# Vérification des dates de vente pour la catégorie en octobre 2021\n",
    "\n",
    "ventes_nov_J['date'] = pd.to_datetime(ventes_nov_J['date'])\n",
    "ventes_nov_DbyD = ventes_nov_J.groupby(pd.Grouper(key='date', freq='D'))['price'].sum(['categ'] == '1')\n",
    "print(\"Chiffre d'affaires moyen journalier pour la catégorie 1 en novembre 2021 :\", ventes_nov_DbyD.mean())"
   ]
  },
  {
   "cell_type": "markdown",
   "id": "a8bfb839",
   "metadata": {},
   "source": [
    "Ce manque de chiffre d'affaires pour la catégorie 1 en octobre est lissé sur l'ensemble du mois.\n",
    "Plusieurs hypothèses peuvent être prises en compte...\n",
    "> Problèmatique de design du site web pour cette catégorie de produits ? Défaut de référencement des produits ? Report des références de la catégorie 1 vers la catégorie 0 ? Opération commerciale des concurrents agressive ?"
   ]
  },
  {
   "cell_type": "markdown",
   "id": "cacb3395",
   "metadata": {},
   "source": [
    "# Analyse des prix"
   ]
  },
  {
   "cell_type": "code",
   "execution_count": 128,
   "id": "32d758c8",
   "metadata": {},
   "outputs": [
    {
     "data": {
      "text/plain": [
       "Text(0.5, 1.0, 'Distribution de la variable price')"
      ]
     },
     "execution_count": 128,
     "metadata": {},
     "output_type": "execute_result"
    },
    {
     "data": {
      "image/png": "[encoded data removed]",
      "text/plain": [
       "<Figure size 432x288 with 1 Axes>"
      ]
     },
     "metadata": {
      "needs_background": "light"
     },
     "output_type": "display_data"
    }
   ],
   "source": [
    "# Histogramme de distribution de la variable 'price'\n",
    "\n",
    "# Import des données\n",
    "count, bins_count = np.histogram(lapage_final['price'], bins=10)\n",
    "  \n",
    "# Comptage du nombre d'apparitions de la variable 'price'\n",
    "prix = count / sum(count)\n",
    "  \n",
    "# Calcul de la fréquence d'apparitions pour chaque prix\n",
    "cumul = np.cumsum(prix)\n",
    "  \n",
    "# Réprésentation graphique\n",
    "plt.plot(bins_count[1:], cumul, color=\"red\", label=\"Cumul\")\n",
    "plt.plot(bins_count[1:], prix, color=\"blue\", label=\"Prix\")\n",
    "plt.title(\"Distribution de la variable price\")"
   ]
  },
  {
   "cell_type": "code",
   "execution_count": 129,
   "id": "3a38303e",
   "metadata": {},
   "outputs": [
    {
     "data": {
      "image/png": "[encoded data removed]",
      "text/plain": [
       "<Figure size 864x576 with 1 Axes>"
      ]
     },
     "metadata": {
      "needs_background": "light"
     },
     "output_type": "display_data"
    }
   ],
   "source": [
    "# Distribution de la variable price en histogramme\n",
    "\n",
    "plt.figure(figsize=(12,8))\n",
    "plt.hist(lapage_final['price'], bins=200, density=True)\n",
    "plt.title(\"Distribution de la variable price en histogramme\")\n",
    "plt.xlabel('Prix unitaire')\n",
    "plt.ylabel('Fréquence d apparition')\n",
    "plt.show()"
   ]
  },
  {
   "cell_type": "code",
   "execution_count": 130,
   "id": "83be9654",
   "metadata": {},
   "outputs": [
    {
     "name": "stdout",
     "output_type": "stream",
     "text": [
      "Données tirées de la variable price :\n",
      "\n",
      "Prix moyen : 17.45477349072619\n",
      "Prix médian : 13.99\n",
      "Prix modal : 0    15.99\n",
      "dtype: float64\n",
      "Variance : 335.84236334069243\n",
      "Ecart-type : 18.326002382971918\n"
     ]
    }
   ],
   "source": [
    "# Prix moyen :\n",
    "moyenne_prix = sum(lapage_final['price'])/len(lapage_final['price'])\n",
    "print(\"Données tirées de la variable price :\")\n",
    "print(\"\")\n",
    "print(\"Prix moyen :\", moyenne_prix)\n",
    "\n",
    "# Prix médian :\n",
    "print(\"Prix médian :\", statistics.median(lapage_final['price']))\n",
    "\n",
    "# Prix modal\n",
    "print(\"Prix modal :\", lapage_final['price'].mode())\n",
    "\n",
    "# Variance :\n",
    "variance = np.var(lapage_final['price'])\n",
    "print(\"Variance :\", variance)\n",
    "\n",
    "# Ecart type :\n",
    "ecart_type_prix = np.std(lapage_final['price'])\n",
    "print(\"Ecart-type :\", ecart_type_prix )"
   ]
  },
  {
   "cell_type": "code",
   "execution_count": 131,
   "id": "cc0daadb",
   "metadata": {
    "scrolled": false
   },
   "outputs": [
    {
     "data": {
      "image/png": "[encoded data removed]",
      "text/plain": [
       "<Figure size 504x360 with 1 Axes>"
      ]
     },
     "metadata": {
      "needs_background": "light"
     },
     "output_type": "display_data"
    }
   ],
   "source": [
    "# Distribution des prix de vente par catégorie\n",
    "\n",
    "plt.figure(figsize = (7, 5))\n",
    "plt.title(\"Distribution des prix de vente par catégorie\")\n",
    "ax = sns.boxplot(y=lapage_final['price'], x=lapage_final['categ'], data=lapage_final) ; plt.show() \n",
    "plt.show()"
   ]
  },
  {
   "cell_type": "markdown",
   "id": "bb96a7f7",
   "metadata": {},
   "source": [
    "La distribution des prix est claire et permet de distinguer les catégories de produits.\n",
    ">Hypothèses : Catégorie 0 = Papeterie diverse\n",
    " // Catégorie 1 = Livres, romans...\n",
    "// Catégorie 2 : Livres d'exceptions, liseuses..."
   ]
  },
  {
   "cell_type": "code",
   "execution_count": 132,
   "id": "c9ec5ed4",
   "metadata": {},
   "outputs": [
    {
     "data": {
      "image/png": "[encoded data removed]",
      "text/plain": [
       "<Figure size 432x288 with 1 Axes>"
      ]
     },
     "metadata": {
      "needs_background": "light"
     },
     "output_type": "display_data"
    }
   ],
   "source": [
    "#Courbe de Lorenz sur la variables des prix\n",
    "price = lapage_final['price'].values\n",
    "#Sélection du sous-échantillon de travail que l'on appelle price\n",
    "\n",
    "#On place les observations dans une variable\n",
    "lorenz = np.cumsum(np.sort(price)) / price.sum()\n",
    "#Tri des individus dans l'ordre croissant des valeurs de la variable, \n",
    "#Calcul de la somme cumulée et normalisation en divisant par la somme des observations\n",
    "\n",
    "plt.plot(np.linspace(0,1,len(lorenz)), lorenz, drawstyle='steps-post', color='rosybrown', label='Lorenz')\n",
    "plt.fill_between(np.linspace(0,1,len(lorenz)) ,lorenz , color='#539ecd')\n",
    "plt.plot([0, 1], [0, 1], 'r-', lw=2, label='Distribution égalitaire')\n",
    "plt.vlines(x=.76, ymin=0, ymax=.5, color='blue', linestyle='--', linewidth=1, label='Medial')\n",
    "plt.hlines(xmin=.76, xmax=0, y=.5, color='blue', linestyle='--', linewidth=1)\n",
    "\n",
    "plt.title('Courbe de Lorenz des prix de vente')\n",
    "plt.xlabel(\"Distribution des ventes (%)\")\n",
    "plt.ylabel(\"Cumul des prix de ventes (%)\")\n",
    "plt.legend(loc=\"best\")\n",
    "\n",
    "plt.savefig(\"lorenz.png\")\n",
    "plt.show()"
   ]
  },
  {
   "cell_type": "code",
   "execution_count": 133,
   "id": "05f2bc55",
   "metadata": {},
   "outputs": [
    {
     "name": "stdout",
     "output_type": "stream",
     "text": [
      "L'indice de Gini est égal à 0.4 . Ce qui signifie qu'il y a une égalité moyenne entre les différentes tranches d'âge.\n"
     ]
    }
   ],
   "source": [
    "#Aire sous la courbe de Lorenz. La dernière valeur ne participe pas à l'aire, d'où \"[:-1]\"\n",
    "aire_price = lorenz[:-1].sum()/len(lorenz) \n",
    "\n",
    "#Aire entre la 1e bissectrice et la courbe de Lorenz\n",
    "S = 0.5 - aire_price \n",
    "gini = round(2*S, 2)\n",
    "\n",
    "print(\"L'indice de Gini est égal à {}\".format(gini),\". Ce qui signifie qu'il y a une égalité moyenne entre les différentes tranches d'âge.\")"
   ]
  },
  {
   "cell_type": "markdown",
   "id": "e1b0ecf4",
   "metadata": {},
   "source": [
    "# Déclinaison du chiffre d'affaires par catégorie"
   ]
  },
  {
   "cell_type": "code",
   "execution_count": 134,
   "id": "4a270125",
   "metadata": {},
   "outputs": [
    {
     "name": "stdout",
     "output_type": "stream",
     "text": [
      "Résultats globaux par catégorie : categ\n",
      "0.0    4.423588e+06\n",
      "1.0    4.653723e+06\n",
      "2.0    2.780275e+06\n",
      "Name: price, dtype: float64\n",
      "\n",
      "Première année par catégorie : categ\n",
      "0.0    2.232226e+06\n",
      "1.0    2.247384e+06\n",
      "2.0    1.353924e+06\n",
      "Name: price, dtype: float64\n",
      "\n",
      "Deuxième année par catégorie : categ\n",
      "0.0    2.191362e+06\n",
      "1.0    2.406338e+06\n",
      "2.0    1.426351e+06\n",
      "Name: price, dtype: float64\n"
     ]
    }
   ],
   "source": [
    "#Calcul chiffre d'affaires par catégories et par années\n",
    "\n",
    "ventes2 = (lapage_final['price'].groupby(lapage_final['categ'])).sum()\n",
    "print(\"Résultats globaux par catégorie :\", ventes2)\n",
    "print(\"\")\n",
    "\n",
    "# Répartition par années\n",
    "\n",
    "ventes_annee1_categ = (ventes_annee1['price'].groupby(ventes_annee1['categ'])).sum()\n",
    "print(\"Première année par catégorie :\",ventes_annee1_categ)\n",
    "print(\"\")\n",
    "ventes_annee2_categ = (ventes_annee2['price'].groupby(ventes_annee2['categ'])).sum()\n",
    "print(\"Deuxième année par catégorie :\", ventes_annee2_categ)"
   ]
  },
  {
   "cell_type": "markdown",
   "id": "47b90559",
   "metadata": {},
   "source": [
    "Evolutions constatées pour les catégories 1 et 2 d'une année à l'autre. Stagnation pour la catégorie 0."
   ]
  },
  {
   "cell_type": "code",
   "execution_count": 135,
   "id": "50fe367f",
   "metadata": {},
   "outputs": [
    {
     "name": "stdout",
     "output_type": "stream",
     "text": [
      "Le nombre de références par catégorie et en pourcentage :    categ  Nombre  Pourcentage\n",
      "0    0.0    2293    70.208206\n",
      "1    1.0     737    22.565830\n",
      "2    2.0     236     7.225964\n"
     ]
    }
   ],
   "source": [
    "# Répartition du nombre de produits et du chiffre d'affaires total par catégories\n",
    "\n",
    "nbre_prod = lapage_final.groupby('categ').id_prod.nunique()\n",
    "pourc = nbre_prod.index\n",
    "tableau_categ = pd.DataFrame(pourc, columns = ['categ'])\n",
    "tableau_categ[\"Nombre\"] = nbre_prod.values\n",
    "tableau_categ[\"Pourcentage\"] = tableau_categ[\"Nombre\"] / (tableau_categ[\"Nombre\"].sum()) * 100\n",
    "print(\"Le nombre de références par catégorie et en pourcentage :\", tableau_categ)"
   ]
  },
  {
   "cell_type": "code",
   "execution_count": 136,
   "id": "202bbad8",
   "metadata": {},
   "outputs": [
    {
     "data": {
      "text/plain": [
       "ShapiroResult(statistic=0.5851583480834961, pvalue=6.406078318832442e-05)"
      ]
     },
     "execution_count": 136,
     "metadata": {},
     "output_type": "execute_result"
    }
   ],
   "source": [
    "#Test Shapiro\n",
    "\n",
    "shapiro(tableau_categ)"
   ]
  },
  {
   "cell_type": "markdown",
   "id": "ef79a973",
   "metadata": {},
   "source": [
    "Le catalogue produits de la boutique Lapage est composé à 70,2% de produits de catégorie 0, 22,6% de catégorie 1, et 7,2% de catégorie 2.\n",
    "\n",
    "Voyons ce que ces catégories représentes en terme de ventes et de chiffre d'affaires..."
   ]
  },
  {
   "cell_type": "markdown",
   "id": "3f890f26",
   "metadata": {},
   "source": [
    "# Tendances générales :"
   ]
  },
  {
   "cell_type": "markdown",
   "id": "095c0c5b",
   "metadata": {},
   "source": [
    "# Représentation graphique des catégories"
   ]
  },
  {
   "cell_type": "code",
   "execution_count": 137,
   "id": "0e9873f8",
   "metadata": {},
   "outputs": [
    {
     "data": {
      "image/png": "[encoded data removed]",
      "text/plain": [
       "<Figure size 432x432 with 1 Axes>"
      ]
     },
     "metadata": {},
     "output_type": "display_data"
    },
    {
     "data": {
      "image/png": "[encoded data removed]",
      "text/plain": [
       "<Figure size 432x432 with 1 Axes>"
      ]
     },
     "metadata": {},
     "output_type": "display_data"
    }
   ],
   "source": [
    "\n",
    "#Représentation des catégories selon le nombre de ventes\n",
    "plt.figure(figsize = (6, 6))\n",
    "lapage_final['categ'].value_counts().plot(kind='pie', autopct='%1.1f%%')\n",
    "plt.title(\"Répartition du nombre de ventes par catégorie\")\n",
    "plt.show()\n",
    "\n",
    "#Représentation des catégories selon le chiffre d'affaires\n",
    "plt.figure(figsize = (6, 6))\n",
    "ventes2.plot(kind='pie', autopct='%1.1f%%')\n",
    "plt.title(\"Répartition du chiffre d'affaires par catégorie\")\n",
    "plt.show()"
   ]
  },
  {
   "cell_type": "markdown",
   "id": "f593b164",
   "metadata": {},
   "source": [
    "# Analyse démographique de la clientèle"
   ]
  },
  {
   "cell_type": "code",
   "execution_count": 138,
   "id": "acc3f22f",
   "metadata": {},
   "outputs": [
    {
     "data": {
      "image/png": "[encoded data removed]",
      "text/plain": [
       "<Figure size 432x288 with 1 Axes>"
      ]
     },
     "metadata": {
      "needs_background": "light"
     },
     "output_type": "display_data"
    }
   ],
   "source": [
    "#Ajout d'une colonne'age' pour faciliter l'analyse\n",
    "lapage_final['age'] = 2023 - lapage_final.birth\n",
    "\n",
    "# Histogramme de la distribution de l'âge clients\n",
    "lapage_final['age'].hist(density=True, alpha=1, bins=30)\n",
    "\n",
    "plt.xlabel('Âges')\n",
    "plt.title('Distribution des âges clients')\n",
    "plt.savefig(\"ages_clients.png\")\n",
    "plt.show()"
   ]
  },
  {
   "cell_type": "code",
   "execution_count": 139,
   "id": "7832d07e",
   "metadata": {},
   "outputs": [
    {
     "name": "stderr",
     "output_type": "stream",
     "text": [
      "/Users/erwandaniel/opt/anaconda3/lib/python3.9/site-packages/scipy/stats/morestats.py:1760: UserWarning: p-value may not be accurate for N > 5000.\n",
      "  warnings.warn(\"p-value may not be accurate for N > 5000.\")\n"
     ]
    },
    {
     "data": {
      "text/plain": [
       "ShapiroResult(statistic=0.9742044806480408, pvalue=0.0)"
      ]
     },
     "execution_count": 139,
     "metadata": {},
     "output_type": "execute_result"
    }
   ],
   "source": [
    "shapiro(lapage_final['age'])"
   ]
  },
  {
   "cell_type": "markdown",
   "id": "e8c952a7",
   "metadata": {},
   "source": [
    "La majorité de la clientèle actuelle de la boutique est agée de 30 à 55 ans."
   ]
  },
  {
   "cell_type": "code",
   "execution_count": 140,
   "id": "c6af0749",
   "metadata": {},
   "outputs": [
    {
     "data": {
      "image/png": "[encoded data removed]",
      "text/plain": [
       "<Figure size 432x288 with 1 Axes>"
      ]
     },
     "metadata": {
      "needs_background": "light"
     },
     "output_type": "display_data"
    }
   ],
   "source": [
    "#Courbe de Lorenz sur la variable des âges \n",
    "age = lapage_final['age'].values\n",
    "# Sélection du sous-échantillon de travail que l'on appelle ages\n",
    "\n",
    "#On place les observations dans une variable\n",
    "lorenz_age = np.cumsum(np.sort(age)) / age.sum()\n",
    "#Tri des individus dans l'ordre croissant des valeurs de la variable, \n",
    "#Calcul de la somme cumulée et normalisation en divisant par la somme des observations\n",
    "\n",
    "plt.plot(np.linspace(0,1,len(lorenz_age)), lorenz_age, drawstyle='steps-post', color='rosybrown', label='Lorenz')\n",
    "plt.fill_between(np.linspace(0,1,len(lorenz_age)) ,lorenz_age , color='#539ecd')\n",
    "plt.plot([0, 1], [0, 1], 'r-', lw=2, label='Distribution égalitaire')\n",
    "plt.vlines(x=.61, ymin=0, ymax=.5, color='blue', linestyle='--', linewidth=1, label='Medial')\n",
    "plt.hlines(xmin=.61, xmax=0, y=.5, color='blue', linestyle='--', linewidth=1)\n",
    "\n",
    "plt.title('Courbe de Lorenz des âges clients')\n",
    "plt.xlabel(\"Distribution des âges (%)\")\n",
    "plt.ylabel(\"Cumul des âges clients (%)\")\n",
    "\n",
    "plt.legend(loc=\"best\")\n",
    "plt.savefig(\"lorenz_age.png\")\n",
    "plt.show()"
   ]
  },
  {
   "cell_type": "code",
   "execution_count": 141,
   "id": "71a4277c",
   "metadata": {},
   "outputs": [
    {
     "name": "stdout",
     "output_type": "stream",
     "text": [
      "L'indice de Gini est égal à 0.17\n"
     ]
    }
   ],
   "source": [
    "#Aire sous la courbe de Lorenz. La dernière valeur ne participe pas à l'aire, d'où \"[:-1]\"\n",
    "aire_age = lorenz_age[:-1].sum()/len(lorenz_age) \n",
    "\n",
    "#Aire entre la 1e bissectrice et la courbe de Lorenz\n",
    "S = 0.5 - aire_age\n",
    "gini_age = round(2*S, 2)\n",
    "\n",
    "print(\"L'indice de Gini est égal à {}\".format(gini_age))"
   ]
  },
  {
   "cell_type": "code",
   "execution_count": 142,
   "id": "9834a220",
   "metadata": {},
   "outputs": [
    {
     "name": "stdout",
     "output_type": "stream",
     "text": [
      "Répartition Hommes/Femmes :\n"
     ]
    },
    {
     "data": {
      "text/plain": [
       "sex\n",
       "f    169457\n",
       "m    172858\n",
       "Name: sex, dtype: int64"
      ]
     },
     "execution_count": 142,
     "metadata": {},
     "output_type": "execute_result"
    }
   ],
   "source": [
    "#Méthode .value_counts() pour avoir une idée rapide de la répartition homme/femme chez les clients\n",
    "nbre_sex = lapage_final['sex'].groupby(lapage_final['session_id']).value_counts()\n",
    "nbre_sex = nbre_sex.groupby('sex').count()\n",
    "print(\"Répartition Hommes/Femmes :\")\n",
    "nbre_sex"
   ]
  },
  {
   "cell_type": "code",
   "execution_count": 143,
   "id": "385a8d4b",
   "metadata": {},
   "outputs": [
    {
     "data": {
      "text/html": [
       "<div>\n",
       "<style scoped>\n",
       "    .dataframe tbody tr th:only-of-type {\n",
       "        vertical-align: middle;\n",
       "    }\n",
       "\n",
       "    .dataframe tbody tr th {\n",
       "        vertical-align: top;\n",
       "    }\n",
       "\n",
       "    .dataframe thead th {\n",
       "        text-align: right;\n",
       "    }\n",
       "</style>\n",
       "<table border=\"1\" class=\"dataframe\">\n",
       "  <thead>\n",
       "    <tr style=\"text-align: right;\">\n",
       "      <th>categ</th>\n",
       "      <th>0.0</th>\n",
       "      <th>1.0</th>\n",
       "      <th>2.0</th>\n",
       "    </tr>\n",
       "    <tr>\n",
       "      <th>sex</th>\n",
       "      <th></th>\n",
       "      <th></th>\n",
       "      <th></th>\n",
       "    </tr>\n",
       "  </thead>\n",
       "  <tbody>\n",
       "    <tr>\n",
       "      <th>f</th>\n",
       "      <td>206220</td>\n",
       "      <td>114899</td>\n",
       "      <td>17283</td>\n",
       "    </tr>\n",
       "    <tr>\n",
       "      <th>m</th>\n",
       "      <td>209460</td>\n",
       "      <td>112270</td>\n",
       "      <td>19200</td>\n",
       "    </tr>\n",
       "  </tbody>\n",
       "</table>\n",
       "</div>"
      ],
      "text/plain": [
       "categ     0.0     1.0    2.0\n",
       "sex                         \n",
       "f      206220  114899  17283\n",
       "m      209460  112270  19200"
      ]
     },
     "execution_count": 143,
     "metadata": {},
     "output_type": "execute_result"
    }
   ],
   "source": [
    "#Création du tableau de contingence \"Matrice des valeurs observées\"\n",
    "#Variables 'sex' et 'categ' du dataframe df\n",
    "X = 'sex'\n",
    "Y = 'categ'\n",
    "\n",
    "#Calcul du tableau de contigence par la méthode .pivot_table()\n",
    "c = lapage_final[[X, Y]].pivot_table(index=X, columns=Y, aggfunc=len) ###, margins=True, margins_name='Total'\n",
    "tx = lapage_final[X].value_counts()\n",
    "ty = lapage_final[Y].value_counts()\n",
    "\n",
    "#Création d'une copie du dataframe original\n",
    "cont = c.copy()\n",
    "cont"
   ]
  },
  {
   "cell_type": "code",
   "execution_count": 144,
   "id": "80be218a",
   "metadata": {},
   "outputs": [
    {
     "data": {
      "text/html": [
       "<div>\n",
       "<style scoped>\n",
       "    .dataframe tbody tr th:only-of-type {\n",
       "        vertical-align: middle;\n",
       "    }\n",
       "\n",
       "    .dataframe tbody tr th {\n",
       "        vertical-align: top;\n",
       "    }\n",
       "\n",
       "    .dataframe thead th {\n",
       "        text-align: right;\n",
       "    }\n",
       "</style>\n",
       "<table border=\"1\" class=\"dataframe\">\n",
       "  <thead>\n",
       "    <tr style=\"text-align: right;\">\n",
       "      <th></th>\n",
       "      <th>0.0</th>\n",
       "      <th>1.0</th>\n",
       "      <th>2.0</th>\n",
       "    </tr>\n",
       "  </thead>\n",
       "  <tbody>\n",
       "    <tr>\n",
       "      <th>m</th>\n",
       "      <td>208613.435551</td>\n",
       "      <td>114007.182306</td>\n",
       "      <td>18309.382143</td>\n",
       "    </tr>\n",
       "    <tr>\n",
       "      <th>f</th>\n",
       "      <td>207066.564449</td>\n",
       "      <td>113161.817694</td>\n",
       "      <td>18173.617857</td>\n",
       "    </tr>\n",
       "  </tbody>\n",
       "</table>\n",
       "</div>"
      ],
      "text/plain": [
       "             0.0            1.0           2.0\n",
       "m  208613.435551  114007.182306  18309.382143\n",
       "f  207066.564449  113161.817694  18173.617857"
      ]
     },
     "execution_count": 144,
     "metadata": {},
     "output_type": "execute_result"
    }
   ],
   "source": [
    "#Création de la \"Matrice des valeurs attendues\"\n",
    "#L’occurrence attendue est simplement la fréquence que l’on devrait trouver dans une cellule \n",
    "#si l’hypothèse nulle était vraie.\n",
    "tx_df= pd.DataFrame(tx)\n",
    "ty_df = pd.DataFrame(ty)\n",
    "\n",
    "tx_df.columns = [\"s\"]\n",
    "ty_df.columns = [\"s\"]\n",
    "\n",
    "#Valeurs totales observées\n",
    "n = len(lapage_final)\n",
    "\n",
    "# Pivot d'une des deux séries.\n",
    "ind = (tx_df.dot(ty_df.T) / n)\n",
    "ind"
   ]
  },
  {
   "cell_type": "code",
   "execution_count": 145,
   "id": "73b97217",
   "metadata": {},
   "outputs": [
    {
     "data": {
      "text/html": [
       "<div>\n",
       "<style scoped>\n",
       "    .dataframe tbody tr th:only-of-type {\n",
       "        vertical-align: middle;\n",
       "    }\n",
       "\n",
       "    .dataframe tbody tr th {\n",
       "        vertical-align: top;\n",
       "    }\n",
       "\n",
       "    .dataframe thead th {\n",
       "        text-align: right;\n",
       "    }\n",
       "</style>\n",
       "<table border=\"1\" class=\"dataframe\">\n",
       "  <thead>\n",
       "    <tr style=\"text-align: right;\">\n",
       "      <th>categ</th>\n",
       "      <th>0.0</th>\n",
       "      <th>1.0</th>\n",
       "      <th>2.0</th>\n",
       "    </tr>\n",
       "  </thead>\n",
       "  <tbody>\n",
       "    <tr>\n",
       "      <th>f</th>\n",
       "      <td>3.461068</td>\n",
       "      <td>26.668027</td>\n",
       "      <td>43.645694</td>\n",
       "    </tr>\n",
       "    <tr>\n",
       "      <th>m</th>\n",
       "      <td>3.435404</td>\n",
       "      <td>26.470283</td>\n",
       "      <td>43.322061</td>\n",
       "    </tr>\n",
       "  </tbody>\n",
       "</table>\n",
       "</div>"
      ],
      "text/plain": [
       "categ       0.0        1.0        2.0\n",
       "f      3.461068  26.668027  43.645694\n",
       "m      3.435404  26.470283  43.322061"
      ]
     },
     "execution_count": 145,
     "metadata": {},
     "output_type": "execute_result"
    }
   ],
   "source": [
    "#Matrice \"écart au carré normalisé de la valeur attendue VS valeur observée\"\n",
    "mesure = (c-ind)**2/ind\n",
    "mesure"
   ]
  },
  {
   "cell_type": "code",
   "execution_count": 146,
   "id": "b1330208",
   "metadata": {},
   "outputs": [
    {
     "data": {
      "text/plain": [
       "147.00253568681114"
      ]
     },
     "execution_count": 146,
     "metadata": {},
     "output_type": "execute_result"
    }
   ],
   "source": [
    "#Calcul du Khi2\n",
    "#Tester l’hypothèse nulle consiste à comparer les occurrences observées (celles déjà dans le tableau) \n",
    "#avec les occurrences attendues.\n",
    "khi2 = mesure.sum().sum()\n",
    "khi2"
   ]
  },
  {
   "cell_type": "code",
   "execution_count": 147,
   "id": "99a34123",
   "metadata": {},
   "outputs": [
    {
     "data": {
      "text/plain": [
       "(147.00253568681114, 2, 1.1989607410166063e-32)"
      ]
     },
     "execution_count": 147,
     "metadata": {},
     "output_type": "execute_result"
    }
   ],
   "source": [
    "#Calcul du khi2 et de la p-value à partir de la matrice des valeurs observées avec scipy \n",
    "#Degré de liberté = (nombre de lignes – 1) X (nombre de colonnes – 1)\n",
    "khi2, pvalue, degrees, expected = stats.chi2_contingency(cont)\n",
    "khi2, degrees, pvalue"
   ]
  },
  {
   "cell_type": "code",
   "execution_count": 148,
   "id": "f38a1f48",
   "metadata": {},
   "outputs": [
    {
     "data": {
      "image/png": "[encoded data removed]",
      "text/plain": [
       "<Figure size 432x288 with 1 Axes>"
      ]
     },
     "metadata": {
      "needs_background": "light"
     },
     "output_type": "display_data"
    }
   ],
   "source": [
    "# Création du groupe \"sex\", et décompte des individus de chaque sous-groupe\n",
    "g = lapage_final.groupby('sex')\n",
    "c_female = g.get_group('f')['categ'].value_counts()\n",
    "c_male = g.get_group('m')['categ'].value_counts()\n",
    "\n",
    "# On extrait les noms des différents hairpattern et des différents sexes\n",
    "categ = lapage_final['categ'].value_counts().index\n",
    "genre = lapage_final['sex'].value_counts().index\n",
    "pos = np.arange(len(categ))\n",
    "width = 0.35  # épaisseur de chaque bâton\n",
    "\n",
    "# Création du diagramme en bâtons (bâtons côte à côte)\n",
    "plt.bar(pos - width/2, c_male, width, color='blue')\n",
    "plt.bar(pos + width/2,c_female, width, color='red')\n",
    "plt.xticks(pos, categ)\n",
    "plt.xlabel('Catégories', fontsize=14)\n",
    "plt.ylabel('Nombre de ventes', fontsize=14)\n",
    "plt.title('Répartition des achats par catégorie en fonction du sexe',fontsize=15)\n",
    "plt.legend(genre,loc=1)\n",
    "plt.savefig(\"sex_categ.png\")\n",
    "plt.show()"
   ]
  },
  {
   "cell_type": "markdown",
   "id": "1b5f89a4",
   "metadata": {},
   "source": [
    "# Top et flop des références produits"
   ]
  },
  {
   "cell_type": "code",
   "execution_count": 150,
   "id": "da755d6f",
   "metadata": {},
   "outputs": [
    {
     "name": "stdout",
     "output_type": "stream",
     "text": [
      "     id_prod  nbre_ventes\n",
      "1793   0_549            1\n",
      "1327  0_2201            1\n",
      "3176    2_23            1\n",
      "313   0_1284            1\n",
      "752   0_1683            1\n",
      "...      ...          ...\n",
      "2654   1_425         2096\n",
      "2734   1_498         2128\n",
      "2642   1_414         2180\n",
      "2645   1_417         2189\n",
      "2592   1_369         2252\n",
      "\n",
      "[3266 rows x 2 columns]\n"
     ]
    }
   ],
   "source": [
    "# Top et flop au niveau des références produits\n",
    "\n",
    "top_prod = lapage_final.groupby('id_prod').count().reset_index()\n",
    "top_prod['nbre_ventes'] = top_prod.session_id\n",
    "top_prod = top_prod[['id_prod', 'nbre_ventes']]\n",
    "graph_prod = top_prod.sort_values(by=['nbre_ventes']).tail(10)\n",
    "print(top_prod.sort_values(by=['nbre_ventes']))"
   ]
  },
  {
   "cell_type": "code",
   "execution_count": 207,
   "id": "52694c23",
   "metadata": {},
   "outputs": [
    {
     "name": "stdout",
     "output_type": "stream",
     "text": [
      "   categ  nbre_ventes\n",
      "2    2.0        36483\n",
      "1    1.0       227169\n",
      "0    0.0       415680\n"
     ]
    }
   ],
   "source": [
    "# Nombre de ventes par catégories\n",
    "top_cat = lapage_final.groupby('categ').count().reset_index()\n",
    "top_cat['nbre_ventes'] = top_cat.session_id\n",
    "top_cat = top_cat[['categ', 'nbre_ventes']]\n",
    "graph_cat = top_cat.sort_values(by=['nbre_ventes']).tail(10)\n",
    "print(top_cat.sort_values(by=['nbre_ventes']))"
   ]
  },
  {
   "cell_type": "code",
   "execution_count": 209,
   "id": "a0658616",
   "metadata": {},
   "outputs": [
    {
     "data": {
      "text/plain": [
       "ShapiroResult(statistic=0.9999890327453613, pvalue=0.9936739206314087)"
      ]
     },
     "execution_count": 209,
     "metadata": {},
     "output_type": "execute_result"
    }
   ],
   "source": [
    "#Test Shapiro du nombre de ventes par catégories\n",
    "stats.shapiro(top_cat['nbre_ventes'])"
   ]
  },
  {
   "cell_type": "markdown",
   "id": "9a35d3b7",
   "metadata": {},
   "source": [
    "Le resultat du test de Shapiro me permet de rejeter l'hypothèse H₀. Je passe ensuite le test de Kruskal-Wallis."
   ]
  },
  {
   "cell_type": "code",
   "execution_count": 225,
   "id": "635f5968",
   "metadata": {},
   "outputs": [],
   "source": [
    "# Division de la table en sous-catégorie \n",
    "\n",
    "categ0 = top_cat[top_cat['categ']== 0]['nbre_ventes']\n",
    "\n",
    "categ1 = top_cat[top_cat['categ']== 1]['nbre_ventes']\n",
    "\n",
    "categ2 = top_cat[top_cat['categ']== 2]['nbre_ventes']"
   ]
  },
  {
   "cell_type": "code",
   "execution_count": 229,
   "id": "711e5103",
   "metadata": {},
   "outputs": [
    {
     "name": "stdout",
     "output_type": "stream",
     "text": [
      "0    415680\n",
      "Name: nbre_ventes, dtype: int64\n",
      "1    227169\n",
      "Name: nbre_ventes, dtype: int64\n",
      "2    36483\n",
      "Name: nbre_ventes, dtype: int64\n"
     ]
    }
   ],
   "source": [
    "# Vérification des données\n",
    "\n",
    "print(categ0)\n",
    "print(categ1)\n",
    "print(categ2)"
   ]
  },
  {
   "cell_type": "code",
   "execution_count": 230,
   "id": "85b3f3fd",
   "metadata": {},
   "outputs": [
    {
     "data": {
      "text/plain": [
       "KruskalResult(statistic=2.0, pvalue=0.36787944117144245)"
      ]
     },
     "execution_count": 230,
     "metadata": {},
     "output_type": "execute_result"
    }
   ],
   "source": [
    "#Test Kruskall-Wallis\n",
    "\n",
    "stats.kruskal(categ0, categ1, categ2)"
   ]
  },
  {
   "cell_type": "code",
   "execution_count": 151,
   "id": "398ecfb3",
   "metadata": {},
   "outputs": [
    {
     "data": {
      "text/html": [
       "<div>\n",
       "<style scoped>\n",
       "    .dataframe tbody tr th:only-of-type {\n",
       "        vertical-align: middle;\n",
       "    }\n",
       "\n",
       "    .dataframe tbody tr th {\n",
       "        vertical-align: top;\n",
       "    }\n",
       "\n",
       "    .dataframe thead th {\n",
       "        text-align: right;\n",
       "    }\n",
       "</style>\n",
       "<table border=\"1\" class=\"dataframe\">\n",
       "  <thead>\n",
       "    <tr style=\"text-align: right;\">\n",
       "      <th></th>\n",
       "      <th>id_prod</th>\n",
       "      <th>nbre_ventes</th>\n",
       "    </tr>\n",
       "  </thead>\n",
       "  <tbody>\n",
       "    <tr>\n",
       "      <th>1793</th>\n",
       "      <td>0_549</td>\n",
       "      <td>1</td>\n",
       "    </tr>\n",
       "    <tr>\n",
       "      <th>1327</th>\n",
       "      <td>0_2201</td>\n",
       "      <td>1</td>\n",
       "    </tr>\n",
       "    <tr>\n",
       "      <th>3176</th>\n",
       "      <td>2_23</td>\n",
       "      <td>1</td>\n",
       "    </tr>\n",
       "    <tr>\n",
       "      <th>313</th>\n",
       "      <td>0_1284</td>\n",
       "      <td>1</td>\n",
       "    </tr>\n",
       "    <tr>\n",
       "      <th>752</th>\n",
       "      <td>0_1683</td>\n",
       "      <td>1</td>\n",
       "    </tr>\n",
       "    <tr>\n",
       "      <th>2109</th>\n",
       "      <td>0_833</td>\n",
       "      <td>1</td>\n",
       "    </tr>\n",
       "    <tr>\n",
       "      <th>3264</th>\n",
       "      <td>2_98</td>\n",
       "      <td>1</td>\n",
       "    </tr>\n",
       "    <tr>\n",
       "      <th>698</th>\n",
       "      <td>0_1633</td>\n",
       "      <td>1</td>\n",
       "    </tr>\n",
       "    <tr>\n",
       "      <th>665</th>\n",
       "      <td>0_1601</td>\n",
       "      <td>1</td>\n",
       "    </tr>\n",
       "    <tr>\n",
       "      <th>3248</th>\n",
       "      <td>2_81</td>\n",
       "      <td>1</td>\n",
       "    </tr>\n",
       "  </tbody>\n",
       "</table>\n",
       "</div>"
      ],
      "text/plain": [
       "     id_prod  nbre_ventes\n",
       "1793   0_549            1\n",
       "1327  0_2201            1\n",
       "3176    2_23            1\n",
       "313   0_1284            1\n",
       "752   0_1683            1\n",
       "2109   0_833            1\n",
       "3264    2_98            1\n",
       "698   0_1633            1\n",
       "665   0_1601            1\n",
       "3248    2_81            1"
      ]
     },
     "execution_count": 151,
     "metadata": {},
     "output_type": "execute_result"
    }
   ],
   "source": [
    "top_prod.sort_values(by=['nbre_ventes']).head(10)"
   ]
  },
  {
   "cell_type": "code",
   "execution_count": 152,
   "id": "4c71bfcc",
   "metadata": {},
   "outputs": [
    {
     "data": {
      "image/png": "[encoded data removed]",
      "text/plain": [
       "<Figure size 432x288 with 1 Axes>"
      ]
     },
     "metadata": {
      "needs_background": "light"
     },
     "output_type": "display_data"
    }
   ],
   "source": [
    "# Visualisation du Top 10 références\n",
    "\n",
    "fig = plt.figure()\n",
    "ax = fig.add_axes([0, 0, 1, 1])\n",
    "etiquettes = graph_prod['id_prod']\n",
    "valeurs = graph_prod['nbre_ventes']\n",
    "ax.bar(etiquettes, valeurs)\n",
    "plt.title('Top 10 des références produits')\n",
    "plt.ylabel('Nombre de ventes')\n",
    "plt.xlabel('Top références')\n",
    "plt.show()"
   ]
  },
  {
   "cell_type": "code",
   "execution_count": 153,
   "id": "baf5f05f",
   "metadata": {
    "scrolled": true
   },
   "outputs": [
    {
     "name": "stdout",
     "output_type": "stream",
     "text": [
      "     id_prod  Unnamed: 0     price\n",
      "3105   2_166    98346418  52449.12\n",
      "3202    2_39   393874843  53060.85\n",
      "3044   2_110   374349242  53846.25\n",
      "2592   1_369   815492617  54025.48\n",
      "2620   1_395   662190110  54356.25\n",
      "3153   2_209   347659980  56971.86\n",
      "3035   2_102   456594962  60736.78\n",
      "3046   2_112   415075883  65407.76\n",
      "3071   2_135   439669371  69334.95\n",
      "3097   2_159   244208036  94893.50\n"
     ]
    }
   ],
   "source": [
    "# Top en chiffre d'affaires\n",
    "\n",
    "top_caprod = lapage_final.groupby(['id_prod']).sum(['price']).reset_index()\n",
    "top_caprod['ca'] = top_caprod.price\n",
    "top_caprod = top_caprod.drop(['birth', 'age', 'categ', 'ca'], axis=1)\n",
    "graph_caprod = top_caprod.sort_values(by=['price']).tail(10)\n",
    "print(graph_caprod)"
   ]
  },
  {
   "cell_type": "code",
   "execution_count": 154,
   "id": "4bee11be",
   "metadata": {},
   "outputs": [
    {
     "data": {
      "image/png": "[encoded data removed]",
      "text/plain": [
       "<Figure size 432x288 with 1 Axes>"
      ]
     },
     "metadata": {
      "needs_background": "light"
     },
     "output_type": "display_data"
    }
   ],
   "source": [
    "fig = plt.figure()\n",
    "ax = fig.add_axes([0, 0, 1, 1])\n",
    "etiquettes4 = graph_caprod['id_prod']\n",
    "valeurs4 = graph_caprod['price']\n",
    "ax.bar(etiquettes4, valeurs4)\n",
    "plt.title('Top 10 des références produits en chiffre d affaires')\n",
    "plt.ylabel('Chiffre d affaires')\n",
    "plt.xlabel('Top références')\n",
    "plt.show()"
   ]
  },
  {
   "cell_type": "code",
   "execution_count": 155,
   "id": "58d9fb25",
   "metadata": {},
   "outputs": [
    {
     "name": "stdout",
     "output_type": "stream",
     "text": [
      "     id_prod  Unnamed: 0  price\n",
      "595   0_1539       94030   0.99\n",
      "313   0_1284      568408   1.38\n",
      "719   0_1653      161911   1.98\n",
      "1785   0_541      309409   1.99\n",
      "2080   0_807      607704   1.99\n",
      "665   0_1601      325685   1.99\n",
      "802   0_1728      477929   2.27\n",
      "549   0_1498       95196   2.48\n",
      "2180   0_898      667628   2.54\n",
      "925   0_1840      220151   2.56\n"
     ]
    }
   ],
   "source": [
    "# Flop en chiffre d'affaires\n",
    "\n",
    "print(top_caprod.sort_values(by=['price']).head(10))"
   ]
  },
  {
   "cell_type": "markdown",
   "id": "dd54a516",
   "metadata": {},
   "source": [
    "Les produits de la catégorie 2 représentent la majorité des best sellers en terme de chiffre d'affaires avec 2 références de la catégorie 1. "
   ]
  },
  {
   "cell_type": "markdown",
   "id": "24aa65ef",
   "metadata": {},
   "source": [
    "# Qui achète sur le site internet de la boutique LAPAGE?"
   ]
  },
  {
   "cell_type": "markdown",
   "id": "852a26d8",
   "metadata": {},
   "source": [
    "Quelques analyses plus poussées doivent être faites afin de mieux cibler la clientèle.\n",
    "\n",
    "Nous allons donc étudier la clientèle avec toutes les données en notre possession :\n",
    "- Analyse Heatmap des corrélations possibles\n",
    "- Analyse de la fidélisation client\n",
    "- Top 10 clients (en nombre d'achats et en CA)\n",
    "- Répartition du CA en fonction des catégories de produits et de l'âge\n",
    "- Corrélation entre l'âge et la catégorie du produit\n",
    "- Répartition du CA global en fonction de l'âge\n",
    "- Prix et âge moyen par catégories\n",
    "- Âge et fréquence d'achat\n",
    "- Âge et panier moyen\n",
    "- Evolution du chiffre d'affaires par catégorie et répartition par sexe"
   ]
  },
  {
   "cell_type": "markdown",
   "id": "5a08da4b",
   "metadata": {},
   "source": [
    "# Caractéristiques de la fidélisation client"
   ]
  },
  {
   "cell_type": "markdown",
   "id": "99c7eace",
   "metadata": {},
   "source": [
    "Comme nous l'avons vu précédemment, le sexe n'influe pas sur la catégorie de produits. Voyons maintenant la corrélation entre l'âge, la catégorie d'achats, le panier moyen, la fréquence d'achats de l'ensemble des clients."
   ]
  },
  {
   "cell_type": "markdown",
   "id": "adda280d",
   "metadata": {},
   "source": [
    "Commençons dans un premier temps par visualiser les différentes corrélations qu'il puisse y avoir entre les différentes variables."
   ]
  },
  {
   "cell_type": "code",
   "execution_count": 156,
   "id": "006367a5",
   "metadata": {
    "scrolled": false
   },
   "outputs": [
    {
     "data": {
      "text/html": [
       "<div>\n",
       "<style scoped>\n",
       "    .dataframe tbody tr th:only-of-type {\n",
       "        vertical-align: middle;\n",
       "    }\n",
       "\n",
       "    .dataframe tbody tr th {\n",
       "        vertical-align: top;\n",
       "    }\n",
       "\n",
       "    .dataframe thead th {\n",
       "        text-align: right;\n",
       "    }\n",
       "</style>\n",
       "<table border=\"1\" class=\"dataframe\">\n",
       "  <thead>\n",
       "    <tr style=\"text-align: right;\">\n",
       "      <th></th>\n",
       "      <th>Unnamed: 0</th>\n",
       "      <th>birth</th>\n",
       "      <th>price</th>\n",
       "      <th>categ</th>\n",
       "      <th>age</th>\n",
       "    </tr>\n",
       "  </thead>\n",
       "  <tbody>\n",
       "    <tr>\n",
       "      <th>Unnamed: 0</th>\n",
       "      <td>1.000000</td>\n",
       "      <td>-0.023842</td>\n",
       "      <td>0.110014</td>\n",
       "      <td>0.145200</td>\n",
       "      <td>0.023842</td>\n",
       "    </tr>\n",
       "    <tr>\n",
       "      <th>birth</th>\n",
       "      <td>-0.023842</td>\n",
       "      <td>1.000000</td>\n",
       "      <td>0.209443</td>\n",
       "      <td>0.099222</td>\n",
       "      <td>-1.000000</td>\n",
       "    </tr>\n",
       "    <tr>\n",
       "      <th>price</th>\n",
       "      <td>0.110014</td>\n",
       "      <td>0.209443</td>\n",
       "      <td>1.000000</td>\n",
       "      <td>0.671692</td>\n",
       "      <td>-0.209443</td>\n",
       "    </tr>\n",
       "    <tr>\n",
       "      <th>categ</th>\n",
       "      <td>0.145200</td>\n",
       "      <td>0.099222</td>\n",
       "      <td>0.671692</td>\n",
       "      <td>1.000000</td>\n",
       "      <td>-0.099222</td>\n",
       "    </tr>\n",
       "    <tr>\n",
       "      <th>age</th>\n",
       "      <td>0.023842</td>\n",
       "      <td>-1.000000</td>\n",
       "      <td>-0.209443</td>\n",
       "      <td>-0.099222</td>\n",
       "      <td>1.000000</td>\n",
       "    </tr>\n",
       "  </tbody>\n",
       "</table>\n",
       "</div>"
      ],
      "text/plain": [
       "            Unnamed: 0     birth     price     categ       age\n",
       "Unnamed: 0    1.000000 -0.023842  0.110014  0.145200  0.023842\n",
       "birth        -0.023842  1.000000  0.209443  0.099222 -1.000000\n",
       "price         0.110014  0.209443  1.000000  0.671692 -0.209443\n",
       "categ         0.145200  0.099222  0.671692  1.000000 -0.099222\n",
       "age           0.023842 -1.000000 -0.209443 -0.099222  1.000000"
      ]
     },
     "execution_count": 156,
     "metadata": {},
     "output_type": "execute_result"
    }
   ],
   "source": [
    "# Préparation de la table pour une visualisation Heatmap\n",
    "\n",
    "lapage_final.corr().head()"
   ]
  },
  {
   "cell_type": "code",
   "execution_count": 157,
   "id": "2acb9e25",
   "metadata": {
    "scrolled": false
   },
   "outputs": [
    {
     "data": {
      "image/png": "[encoded data removed]",
      "text/plain": [
       "<Figure size 432x288 with 2 Axes>"
      ]
     },
     "metadata": {
      "needs_background": "light"
     },
     "output_type": "display_data"
    }
   ],
   "source": [
    "#Méthode .corr() avec par défaut la formule de la corrélation linéaire de Pearson\n",
    "\n",
    "sns.heatmap(lapage_final.corr(), annot=True, fmt=\".1f\", cmap='Blues')\n",
    "plt.title('Corrélation HeatMap des variables de la table finale')\n",
    "plt.savefig(\"heatmap_global.png\")\n",
    "plt.show()"
   ]
  },
  {
   "cell_type": "markdown",
   "id": "42d188a9",
   "metadata": {},
   "source": [
    "Ce HeatMap nous montre une première image des possibles corrélations linéaires. Nous voyons notamment que les prix des produits sont fortement corrélés à leur catégories respectives."
   ]
  },
  {
   "cell_type": "code",
   "execution_count": 158,
   "id": "324a771e",
   "metadata": {},
   "outputs": [
    {
     "name": "stdout",
     "output_type": "stream",
     "text": [
      "     client_id  nbre_achats\n",
      "677     c_1609        25488\n",
      "6337    c_6714         9187\n",
      "2724    c_3454         6773\n",
      "4388    c_4958         5195\n",
      "2513    c_3263          403\n",
      "...        ...          ...\n",
      "1556     c_240            1\n",
      "5501    c_5962            1\n",
      "8151    c_8351            1\n",
      "3855    c_4478            1\n",
      "5868    c_6292            1\n",
      "\n",
      "[8600 rows x 2 columns]\n"
     ]
    }
   ],
   "source": [
    "# Création d'une table des 10 meilleurs clients\n",
    "\n",
    "top_cli = lapage_final.groupby('client_id').count().reset_index()\n",
    "top_cli['nbre_achats'] = top_cli.session_id\n",
    "top_cli = top_cli[['client_id', 'nbre_achats']]\n",
    "graph_cli = top_cli.sort_values(by=['nbre_achats']).tail(10)\n",
    "print(top_cli.sort_values(by=['nbre_achats'], ascending = False))"
   ]
  },
  {
   "cell_type": "code",
   "execution_count": 159,
   "id": "842b1f29",
   "metadata": {},
   "outputs": [
    {
     "name": "stdout",
     "output_type": "stream",
     "text": [
      "Nombre total de clients : 8600\n",
      "Clients ayant passés une seule commande : 8\n",
      "Clients ayant passés 2 commandes : 42\n",
      "Clients ayant passés plus de deux commandes ou plus : 8550\n",
      "Pourcentage de fidélisation : 99.90697674418605\n"
     ]
    }
   ],
   "source": [
    "# Nombre total de clients\n",
    "print(\"Nombre total de clients :\",top_cli.shape[0])\n",
    "\n",
    "# Clients ayant passés une seule commande\n",
    "print(\"Clients ayant passés une seule commande :\",top_cli[top_cli['nbre_achats'] == 1].shape[0])\n",
    "\n",
    "# Clients ayant passés 2 commandes\n",
    "print(\"Clients ayant passés 2 commandes :\",top_cli[top_cli['nbre_achats'] == 2].shape[0])\n",
    "\n",
    "# Clients ayant passés plus de deux commandes\n",
    "print(\"Clients ayant passés plus de deux commandes ou plus :\",top_cli[top_cli['nbre_achats'] > 2].shape[0])\n",
    "\n",
    "# Pourcentage de clients fidélisés\n",
    "print(\"Pourcentage de fidélisation :\", (top_cli[top_cli['nbre_achats'] > 1].shape[0])/(top_cli.shape[0])*100)"
   ]
  },
  {
   "cell_type": "markdown",
   "id": "8dc1a179",
   "metadata": {},
   "source": [
    "Le but, étant donné le fort taux de fidélisation, sera de conserver ces clients fidèles, de les amener vers un panier moyen plus élevé en nombre d'articles et en chiffre d'affaires, tout en cherchant de nouveaux prospects et de nouveaux clients."
   ]
  },
  {
   "cell_type": "code",
   "execution_count": 160,
   "id": "5ad2b7a3",
   "metadata": {
    "scrolled": true
   },
   "outputs": [
    {
     "data": {
      "text/html": [
       "<div>\n",
       "<style scoped>\n",
       "    .dataframe tbody tr th:only-of-type {\n",
       "        vertical-align: middle;\n",
       "    }\n",
       "\n",
       "    .dataframe tbody tr th {\n",
       "        vertical-align: top;\n",
       "    }\n",
       "\n",
       "    .dataframe thead th {\n",
       "        text-align: right;\n",
       "    }\n",
       "</style>\n",
       "<table border=\"1\" class=\"dataframe\">\n",
       "  <thead>\n",
       "    <tr style=\"text-align: right;\">\n",
       "      <th></th>\n",
       "      <th>client_id</th>\n",
       "      <th>nbre_achats</th>\n",
       "    </tr>\n",
       "  </thead>\n",
       "  <tbody>\n",
       "    <tr>\n",
       "      <th>7120</th>\n",
       "      <td>c_7421</td>\n",
       "      <td>379</td>\n",
       "    </tr>\n",
       "    <tr>\n",
       "      <th>708</th>\n",
       "      <td>c_1637</td>\n",
       "      <td>380</td>\n",
       "    </tr>\n",
       "    <tr>\n",
       "      <th>1197</th>\n",
       "      <td>c_2077</td>\n",
       "      <td>384</td>\n",
       "    </tr>\n",
       "    <tr>\n",
       "      <th>1772</th>\n",
       "      <td>c_2595</td>\n",
       "      <td>398</td>\n",
       "    </tr>\n",
       "    <tr>\n",
       "      <th>1268</th>\n",
       "      <td>c_2140</td>\n",
       "      <td>402</td>\n",
       "    </tr>\n",
       "    <tr>\n",
       "      <th>2513</th>\n",
       "      <td>c_3263</td>\n",
       "      <td>403</td>\n",
       "    </tr>\n",
       "    <tr>\n",
       "      <th>4388</th>\n",
       "      <td>c_4958</td>\n",
       "      <td>5195</td>\n",
       "    </tr>\n",
       "    <tr>\n",
       "      <th>2724</th>\n",
       "      <td>c_3454</td>\n",
       "      <td>6773</td>\n",
       "    </tr>\n",
       "    <tr>\n",
       "      <th>6337</th>\n",
       "      <td>c_6714</td>\n",
       "      <td>9187</td>\n",
       "    </tr>\n",
       "    <tr>\n",
       "      <th>677</th>\n",
       "      <td>c_1609</td>\n",
       "      <td>25488</td>\n",
       "    </tr>\n",
       "  </tbody>\n",
       "</table>\n",
       "</div>"
      ],
      "text/plain": [
       "     client_id  nbre_achats\n",
       "7120    c_7421          379\n",
       "708     c_1637          380\n",
       "1197    c_2077          384\n",
       "1772    c_2595          398\n",
       "1268    c_2140          402\n",
       "2513    c_3263          403\n",
       "4388    c_4958         5195\n",
       "2724    c_3454         6773\n",
       "6337    c_6714         9187\n",
       "677     c_1609        25488"
      ]
     },
     "execution_count": 160,
     "metadata": {},
     "output_type": "execute_result"
    }
   ],
   "source": [
    "# Liste des 10 meilleurs clients\n",
    "\n",
    "graph_cli"
   ]
  },
  {
   "cell_type": "code",
   "execution_count": 202,
   "id": "16b35329",
   "metadata": {},
   "outputs": [
    {
     "name": "stderr",
     "output_type": "stream",
     "text": [
      "/Users/erwandaniel/opt/anaconda3/lib/python3.9/site-packages/scipy/stats/morestats.py:1760: UserWarning: p-value may not be accurate for N > 5000.\n",
      "  warnings.warn(\"p-value may not be accurate for N > 5000.\")\n"
     ]
    },
    {
     "data": {
      "text/plain": [
       "ShapiroResult(statistic=0.0677717924118042, pvalue=0.0)"
      ]
     },
     "execution_count": 202,
     "metadata": {},
     "output_type": "execute_result"
    }
   ],
   "source": [
    "stats.shapiro(top_cli['nbre_achats'])"
   ]
  },
  {
   "cell_type": "markdown",
   "id": "b79d9529",
   "metadata": {},
   "source": [
    "Les meilleurs clients ont achetés entre 379 et 25488 articles en deux ans."
   ]
  },
  {
   "cell_type": "code",
   "execution_count": 161,
   "id": "ddf2b4b1",
   "metadata": {},
   "outputs": [
    {
     "data": {
      "image/png": "[encoded data removed]",
      "text/plain": [
       "<Figure size 432x288 with 1 Axes>"
      ]
     },
     "metadata": {
      "needs_background": "light"
     },
     "output_type": "display_data"
    }
   ],
   "source": [
    "# Visualisation du Top 10 clients en nombre d'achats\n",
    "\n",
    "fig = plt.figure()\n",
    "ax = fig.add_axes([0, 0, 1, 1])\n",
    "etiquettes1 = graph_cli['client_id']\n",
    "valeurs1 = graph_cli['nbre_achats']\n",
    "ax.bar(etiquettes1, valeurs1)\n",
    "plt.title('Top 10 des meilleurs clients')\n",
    "plt.ylabel('Nombre d achats')\n",
    "plt.xlabel('Top 10 clients')\n",
    "plt.show()"
   ]
  },
  {
   "cell_type": "code",
   "execution_count": 162,
   "id": "155b5fea",
   "metadata": {},
   "outputs": [
    {
     "data": {
      "text/html": [
       "<div>\n",
       "<style scoped>\n",
       "    .dataframe tbody tr th:only-of-type {\n",
       "        vertical-align: middle;\n",
       "    }\n",
       "\n",
       "    .dataframe tbody tr th {\n",
       "        vertical-align: top;\n",
       "    }\n",
       "\n",
       "    .dataframe thead th {\n",
       "        text-align: right;\n",
       "    }\n",
       "</style>\n",
       "<table border=\"1\" class=\"dataframe\">\n",
       "  <thead>\n",
       "    <tr style=\"text-align: right;\">\n",
       "      <th></th>\n",
       "      <th>client_id</th>\n",
       "      <th>Unnamed: 0</th>\n",
       "      <th>price</th>\n",
       "    </tr>\n",
       "  </thead>\n",
       "  <tbody>\n",
       "    <tr>\n",
       "      <th>7791</th>\n",
       "      <td>c_8026</td>\n",
       "      <td>93154438</td>\n",
       "      <td>5100.034773</td>\n",
       "    </tr>\n",
       "    <tr>\n",
       "      <th>7006</th>\n",
       "      <td>c_7319</td>\n",
       "      <td>52241252</td>\n",
       "      <td>5155.770000</td>\n",
       "    </tr>\n",
       "    <tr>\n",
       "      <th>1268</th>\n",
       "      <td>c_2140</td>\n",
       "      <td>136406439</td>\n",
       "      <td>5208.820000</td>\n",
       "    </tr>\n",
       "    <tr>\n",
       "      <th>2108</th>\n",
       "      <td>c_2899</td>\n",
       "      <td>40506795</td>\n",
       "      <td>5214.050000</td>\n",
       "    </tr>\n",
       "    <tr>\n",
       "      <th>634</th>\n",
       "      <td>c_1570</td>\n",
       "      <td>71781939</td>\n",
       "      <td>5271.620000</td>\n",
       "    </tr>\n",
       "    <tr>\n",
       "      <th>2513</th>\n",
       "      <td>c_3263</td>\n",
       "      <td>31656456</td>\n",
       "      <td>5276.870000</td>\n",
       "    </tr>\n",
       "    <tr>\n",
       "      <th>2724</th>\n",
       "      <td>c_3454</td>\n",
       "      <td>421260281</td>\n",
       "      <td>113690.294320</td>\n",
       "    </tr>\n",
       "    <tr>\n",
       "      <th>6337</th>\n",
       "      <td>c_6714</td>\n",
       "      <td>46256545</td>\n",
       "      <td>153703.648641</td>\n",
       "    </tr>\n",
       "    <tr>\n",
       "      <th>4388</th>\n",
       "      <td>c_4958</td>\n",
       "      <td>83244680</td>\n",
       "      <td>289760.340000</td>\n",
       "    </tr>\n",
       "    <tr>\n",
       "      <th>677</th>\n",
       "      <td>c_1609</td>\n",
       "      <td>899841096</td>\n",
       "      <td>324033.350000</td>\n",
       "    </tr>\n",
       "  </tbody>\n",
       "</table>\n",
       "</div>"
      ],
      "text/plain": [
       "     client_id  Unnamed: 0          price\n",
       "7791    c_8026    93154438    5100.034773\n",
       "7006    c_7319    52241252    5155.770000\n",
       "1268    c_2140   136406439    5208.820000\n",
       "2108    c_2899    40506795    5214.050000\n",
       "634     c_1570    71781939    5271.620000\n",
       "2513    c_3263    31656456    5276.870000\n",
       "2724    c_3454   421260281  113690.294320\n",
       "6337    c_6714    46256545  153703.648641\n",
       "4388    c_4958    83244680  289760.340000\n",
       "677     c_1609   899841096  324033.350000"
      ]
     },
     "execution_count": 162,
     "metadata": {},
     "output_type": "execute_result"
    }
   ],
   "source": [
    "# Top 10 des meilleurs clients en chiffre d'affaires\n",
    "\n",
    "top_cli_ca = lapage_final.groupby(['client_id']).sum(['price']).reset_index()\n",
    "top_cli_ca = top_cli_ca.drop(['birth', 'age', 'categ'], axis=1)\n",
    "\n",
    "graph_cli_ca = top_cli_ca.sort_values(by=['price']).tail(10)\n",
    "graph_cli_ca"
   ]
  },
  {
   "cell_type": "code",
   "execution_count": 163,
   "id": "178a7d78",
   "metadata": {
    "scrolled": false
   },
   "outputs": [
    {
     "data": {
      "image/png": "[encoded data removed]",
      "text/plain": [
       "<Figure size 432x288 with 1 Axes>"
      ]
     },
     "metadata": {
      "needs_background": "light"
     },
     "output_type": "display_data"
    }
   ],
   "source": [
    "# Visualisation du top 10 clients en chiffre d'affaires\n",
    "\n",
    "fig = plt.figure()\n",
    "ax = fig.add_axes([0, 0, 1, 1])\n",
    "etiquettes2 = graph_cli_ca['client_id']\n",
    "valeurs2 = graph_cli_ca['price']\n",
    "ax.bar(etiquettes2, valeurs2)\n",
    "plt.title('Top 10 des meilleurs clients en chiffre d affaires')\n",
    "plt.ylabel('Chiffre d affaires')\n",
    "plt.xlabel('Top 10 clients')\n",
    "plt.show()"
   ]
  },
  {
   "cell_type": "markdown",
   "id": "245819e0",
   "metadata": {},
   "source": [
    "Les quatre meilleurs clients rapportent à l'entreprise plus de 850K €. Il doit certainement s'agir d'une clientèle de professionnels, d'associations ou d'établissements publics qui s'approvisionnent à la librairie Lapage. Il est indispensable de garder cette clientèle et, dans la mesure du possible, de la développer par la prescription et la recommandation."
   ]
  },
  {
   "cell_type": "markdown",
   "id": "eb656223",
   "metadata": {},
   "source": [
    "# Répartition du chiffre d'affaires selon l'âge et les catégories"
   ]
  },
  {
   "cell_type": "code",
   "execution_count": 164,
   "id": "f77b02f2",
   "metadata": {
    "scrolled": true
   },
   "outputs": [
    {
     "data": {
      "text/html": [
       "<div>\n",
       "<style scoped>\n",
       "    .dataframe tbody tr th:only-of-type {\n",
       "        vertical-align: middle;\n",
       "    }\n",
       "\n",
       "    .dataframe tbody tr th {\n",
       "        vertical-align: top;\n",
       "    }\n",
       "\n",
       "    .dataframe thead th {\n",
       "        text-align: right;\n",
       "    }\n",
       "</style>\n",
       "<table border=\"1\" class=\"dataframe\">\n",
       "  <thead>\n",
       "    <tr style=\"text-align: right;\">\n",
       "      <th></th>\n",
       "      <th></th>\n",
       "      <th>Unnamed: 0</th>\n",
       "      <th>price</th>\n",
       "    </tr>\n",
       "    <tr>\n",
       "      <th>age</th>\n",
       "      <th>categ</th>\n",
       "      <th></th>\n",
       "      <th></th>\n",
       "    </tr>\n",
       "  </thead>\n",
       "  <tbody>\n",
       "    <tr>\n",
       "      <th rowspan=\"3\" valign=\"top\">19</th>\n",
       "      <th>0.0</th>\n",
       "      <td>1594179424</td>\n",
       "      <td>35914.36</td>\n",
       "    </tr>\n",
       "    <tr>\n",
       "      <th>1.0</th>\n",
       "      <td>2715501306</td>\n",
       "      <td>118362.47</td>\n",
       "    </tr>\n",
       "    <tr>\n",
       "      <th>2.0</th>\n",
       "      <td>2835012043</td>\n",
       "      <td>454736.86</td>\n",
       "    </tr>\n",
       "    <tr>\n",
       "      <th rowspan=\"2\" valign=\"top\">20</th>\n",
       "      <th>0.0</th>\n",
       "      <td>474277417</td>\n",
       "      <td>9560.43</td>\n",
       "    </tr>\n",
       "    <tr>\n",
       "      <th>1.0</th>\n",
       "      <td>863179101</td>\n",
       "      <td>34435.66</td>\n",
       "    </tr>\n",
       "    <tr>\n",
       "      <th>...</th>\n",
       "      <th>...</th>\n",
       "      <td>...</td>\n",
       "      <td>...</td>\n",
       "    </tr>\n",
       "    <tr>\n",
       "      <th rowspan=\"2\" valign=\"top\">93</th>\n",
       "      <th>1.0</th>\n",
       "      <td>85533839</td>\n",
       "      <td>3074.34</td>\n",
       "    </tr>\n",
       "    <tr>\n",
       "      <th>2.0</th>\n",
       "      <td>1104242</td>\n",
       "      <td>111.98</td>\n",
       "    </tr>\n",
       "    <tr>\n",
       "      <th rowspan=\"3\" valign=\"top\">94</th>\n",
       "      <th>0.0</th>\n",
       "      <td>36588909</td>\n",
       "      <td>716.76</td>\n",
       "    </tr>\n",
       "    <tr>\n",
       "      <th>1.0</th>\n",
       "      <td>58421413</td>\n",
       "      <td>2359.10</td>\n",
       "    </tr>\n",
       "    <tr>\n",
       "      <th>2.0</th>\n",
       "      <td>432994</td>\n",
       "      <td>145.99</td>\n",
       "    </tr>\n",
       "  </tbody>\n",
       "</table>\n",
       "<p>228 rows × 2 columns</p>\n",
       "</div>"
      ],
      "text/plain": [
       "           Unnamed: 0      price\n",
       "age categ                       \n",
       "19  0.0    1594179424   35914.36\n",
       "    1.0    2715501306  118362.47\n",
       "    2.0    2835012043  454736.86\n",
       "20  0.0     474277417    9560.43\n",
       "    1.0     863179101   34435.66\n",
       "...               ...        ...\n",
       "93  1.0      85533839    3074.34\n",
       "    2.0       1104242     111.98\n",
       "94  0.0      36588909     716.76\n",
       "    1.0      58421413    2359.10\n",
       "    2.0        432994     145.99\n",
       "\n",
       "[228 rows x 2 columns]"
      ]
     },
     "execution_count": 164,
     "metadata": {},
     "output_type": "execute_result"
    }
   ],
   "source": [
    "# Age et chiffre d'affaires total en fonction des catégories d'achat\n",
    "\n",
    "# Création d'une table temporaire\n",
    "fre_age = lapage_final.groupby(['age', 'categ']).sum(lapage_final.session_id.count())\n",
    "fre_age = fre_age.drop(['birth'], axis=1)\n",
    "fre_age"
   ]
  },
  {
   "cell_type": "code",
   "execution_count": 165,
   "id": "927054d4",
   "metadata": {},
   "outputs": [
    {
     "data": {
      "text/html": [
       "<div>\n",
       "<style scoped>\n",
       "    .dataframe tbody tr th:only-of-type {\n",
       "        vertical-align: middle;\n",
       "    }\n",
       "\n",
       "    .dataframe tbody tr th {\n",
       "        vertical-align: top;\n",
       "    }\n",
       "\n",
       "    .dataframe thead th {\n",
       "        text-align: right;\n",
       "    }\n",
       "</style>\n",
       "<table border=\"1\" class=\"dataframe\">\n",
       "  <thead>\n",
       "    <tr style=\"text-align: right;\">\n",
       "      <th></th>\n",
       "      <th>age</th>\n",
       "      <th>categ</th>\n",
       "      <th>Unnamed: 0</th>\n",
       "      <th>price</th>\n",
       "    </tr>\n",
       "  </thead>\n",
       "  <tbody>\n",
       "    <tr>\n",
       "      <th>0</th>\n",
       "      <td>19</td>\n",
       "      <td>0.0</td>\n",
       "      <td>1594179424</td>\n",
       "      <td>35914.36</td>\n",
       "    </tr>\n",
       "    <tr>\n",
       "      <th>1</th>\n",
       "      <td>19</td>\n",
       "      <td>1.0</td>\n",
       "      <td>2715501306</td>\n",
       "      <td>118362.47</td>\n",
       "    </tr>\n",
       "    <tr>\n",
       "      <th>2</th>\n",
       "      <td>19</td>\n",
       "      <td>2.0</td>\n",
       "      <td>2835012043</td>\n",
       "      <td>454736.86</td>\n",
       "    </tr>\n",
       "    <tr>\n",
       "      <th>3</th>\n",
       "      <td>20</td>\n",
       "      <td>0.0</td>\n",
       "      <td>474277417</td>\n",
       "      <td>9560.43</td>\n",
       "    </tr>\n",
       "    <tr>\n",
       "      <th>4</th>\n",
       "      <td>20</td>\n",
       "      <td>1.0</td>\n",
       "      <td>863179101</td>\n",
       "      <td>34435.66</td>\n",
       "    </tr>\n",
       "    <tr>\n",
       "      <th>...</th>\n",
       "      <td>...</td>\n",
       "      <td>...</td>\n",
       "      <td>...</td>\n",
       "      <td>...</td>\n",
       "    </tr>\n",
       "    <tr>\n",
       "      <th>223</th>\n",
       "      <td>93</td>\n",
       "      <td>1.0</td>\n",
       "      <td>85533839</td>\n",
       "      <td>3074.34</td>\n",
       "    </tr>\n",
       "    <tr>\n",
       "      <th>224</th>\n",
       "      <td>93</td>\n",
       "      <td>2.0</td>\n",
       "      <td>1104242</td>\n",
       "      <td>111.98</td>\n",
       "    </tr>\n",
       "    <tr>\n",
       "      <th>225</th>\n",
       "      <td>94</td>\n",
       "      <td>0.0</td>\n",
       "      <td>36588909</td>\n",
       "      <td>716.76</td>\n",
       "    </tr>\n",
       "    <tr>\n",
       "      <th>226</th>\n",
       "      <td>94</td>\n",
       "      <td>1.0</td>\n",
       "      <td>58421413</td>\n",
       "      <td>2359.10</td>\n",
       "    </tr>\n",
       "    <tr>\n",
       "      <th>227</th>\n",
       "      <td>94</td>\n",
       "      <td>2.0</td>\n",
       "      <td>432994</td>\n",
       "      <td>145.99</td>\n",
       "    </tr>\n",
       "  </tbody>\n",
       "</table>\n",
       "<p>228 rows × 4 columns</p>\n",
       "</div>"
      ],
      "text/plain": [
       "     age  categ  Unnamed: 0      price\n",
       "0     19    0.0  1594179424   35914.36\n",
       "1     19    1.0  2715501306  118362.47\n",
       "2     19    2.0  2835012043  454736.86\n",
       "3     20    0.0   474277417    9560.43\n",
       "4     20    1.0   863179101   34435.66\n",
       "..   ...    ...         ...        ...\n",
       "223   93    1.0    85533839    3074.34\n",
       "224   93    2.0     1104242     111.98\n",
       "225   94    0.0    36588909     716.76\n",
       "226   94    1.0    58421413    2359.10\n",
       "227   94    2.0      432994     145.99\n",
       "\n",
       "[228 rows x 4 columns]"
      ]
     },
     "execution_count": 165,
     "metadata": {},
     "output_type": "execute_result"
    }
   ],
   "source": [
    "# Création d'une table utilisable pour la visualisation\n",
    "\n",
    "fre_age2 = fre_age.groupby(['age', 'categ']).sum('price').reset_index()\n",
    "fre_age2"
   ]
  },
  {
   "cell_type": "code",
   "execution_count": 166,
   "id": "1faddb9d",
   "metadata": {},
   "outputs": [
    {
     "data": {
      "text/plain": [
       "Text(0.5, 0, 'Age des clients')"
      ]
     },
     "execution_count": 166,
     "metadata": {},
     "output_type": "execute_result"
    },
    {
     "data": {
      "image/png": "[encoded data removed]",
      "text/plain": [
       "<Figure size 432x288 with 1 Axes>"
      ]
     },
     "metadata": {
      "needs_background": "light"
     },
     "output_type": "display_data"
    }
   ],
   "source": [
    "# Utilisation de la table et visualisation en Kernel density\n",
    "\n",
    "sns.kdeplot(data=fre_age2, x=\"age\", y=\"price\",  hue=\"categ\", levels=10, thresh=.1,)\n",
    "plt.title('Répartition du chiffre d affaires selon la catégorie d achats et l âge')\n",
    "plt.ylabel('Chiffre d affaires')\n",
    "plt.xlabel('Age des clients')"
   ]
  },
  {
   "cell_type": "code",
   "execution_count": 167,
   "id": "ab3715ec",
   "metadata": {
    "scrolled": false
   },
   "outputs": [
    {
     "data": {
      "image/png": "[encoded data removed]",
      "text/plain": [
       "<Figure size 1296x360 with 1 Axes>"
      ]
     },
     "metadata": {
      "needs_background": "light"
     },
     "output_type": "display_data"
    }
   ],
   "source": [
    "#Visualisation rapide avec une BarPlot Seaborn\n",
    "fig, ax = plt.subplots(figsize=(18, 5))\n",
    "sns.barplot(x=\"age\", y=\"price\",hue=\"categ\", data=fre_age2)\n",
    "\n",
    "ax.set_xlabel('age')\n",
    "ax.set_ylabel('Chiffre d\\'affaires réalisé')\n",
    "ax.set_title('Catégories produits selon l\\'âge client')\n",
    "\n",
    "plt.savefig(\"barplot_categorie_produit_age_client\")\n",
    "plt.show()"
   ]
  },
  {
   "cell_type": "markdown",
   "id": "fc756952",
   "metadata": {},
   "source": [
    "Nous observons très nettement des tendances se dessiner :\n",
    "- Les 18-31 ans sont les plus gros consommateurs des produits de catégorie 2\n",
    "- La catégorie 0 est très représentée entre 32 ans et 51 ans\n",
    "- Le chiffre d'affaires de la catégorie 1 est très achetée par les 32 à 67 ans.\n",
    "\n",
    "Quelques données semblent intéressantes pour des promotions ciblées :\n",
    "- Les personnes agées de 19 et 24 ans réalisent plus du double du chiffre d'affaires de la moyenne de leur âge, déjà trsès acheteuse de cette catégorie.\n",
    "- Les personnes agées de 43 ans réalisent environ 400K€ de CA pour la catégorie 0"
   ]
  },
  {
   "cell_type": "markdown",
   "id": "d16e32b1",
   "metadata": {},
   "source": [
    "# Corrélation entre l'âge et la catégorie de produits"
   ]
  },
  {
   "cell_type": "markdown",
   "id": "2cbfe82b",
   "metadata": {},
   "source": [
    "Afin de simplifier l'analyse, il est nécessaire de procéder par un découpage en classes (discrétisation). Le but recherché est de classer la clientèle par groupes d'âges de manière à interpréter plus clairement les résultats."
   ]
  },
  {
   "cell_type": "code",
   "execution_count": 168,
   "id": "6d5b5a85",
   "metadata": {},
   "outputs": [
    {
     "data": {
      "text/plain": [
       "228"
      ]
     },
     "execution_count": 168,
     "metadata": {},
     "output_type": "execute_result"
    }
   ],
   "source": [
    "#N est le nombre d'observations, ici représentées par les valeurs transactionnelles par âge et par catégorie\n",
    "len(lapage_final.groupby(['age', 'categ']).count().reset_index())"
   ]
  },
  {
   "cell_type": "code",
   "execution_count": 169,
   "id": "9d4d38f6",
   "metadata": {},
   "outputs": [
    {
     "data": {
      "text/plain": [
       "8.859782823334847"
      ]
     },
     "execution_count": 169,
     "metadata": {},
     "output_type": "execute_result"
    }
   ],
   "source": [
    "#Formule de Huntsberger : 1 + 3,3*log10(N)\n",
    "1 + ((10/3) * math.log10(228))"
   ]
  },
  {
   "cell_type": "code",
   "execution_count": 170,
   "id": "57291b09",
   "metadata": {},
   "outputs": [
    {
     "data": {
      "text/plain": [
       "11.78967423500227"
      ]
     },
     "execution_count": 170,
     "metadata": {},
     "output_type": "execute_result"
    }
   ],
   "source": [
    "#Formule de Brooks-Carruthers : 5*log10(N)\n",
    "5 * math.log10(228)"
   ]
  },
  {
   "cell_type": "code",
   "execution_count": 171,
   "id": "9728e5a0",
   "metadata": {},
   "outputs": [
    {
     "data": {
      "text/html": [
       "<div>\n",
       "<style scoped>\n",
       "    .dataframe tbody tr th:only-of-type {\n",
       "        vertical-align: middle;\n",
       "    }\n",
       "\n",
       "    .dataframe tbody tr th {\n",
       "        vertical-align: top;\n",
       "    }\n",
       "\n",
       "    .dataframe thead th {\n",
       "        text-align: right;\n",
       "    }\n",
       "</style>\n",
       "<table border=\"1\" class=\"dataframe\">\n",
       "  <thead>\n",
       "    <tr style=\"text-align: right;\">\n",
       "      <th></th>\n",
       "      <th>age</th>\n",
       "      <th>categ</th>\n",
       "      <th>session_id</th>\n",
       "    </tr>\n",
       "  </thead>\n",
       "  <tbody>\n",
       "    <tr>\n",
       "      <th>0</th>\n",
       "      <td>19</td>\n",
       "      <td>0.0</td>\n",
       "      <td>3418</td>\n",
       "    </tr>\n",
       "    <tr>\n",
       "      <th>1</th>\n",
       "      <td>19</td>\n",
       "      <td>1.0</td>\n",
       "      <td>5719</td>\n",
       "    </tr>\n",
       "    <tr>\n",
       "      <th>2</th>\n",
       "      <td>19</td>\n",
       "      <td>2.0</td>\n",
       "      <td>6012</td>\n",
       "    </tr>\n",
       "    <tr>\n",
       "      <th>3</th>\n",
       "      <td>20</td>\n",
       "      <td>0.0</td>\n",
       "      <td>909</td>\n",
       "    </tr>\n",
       "    <tr>\n",
       "      <th>4</th>\n",
       "      <td>20</td>\n",
       "      <td>1.0</td>\n",
       "      <td>1678</td>\n",
       "    </tr>\n",
       "  </tbody>\n",
       "</table>\n",
       "</div>"
      ],
      "text/plain": [
       "   age  categ  session_id\n",
       "0   19    0.0        3418\n",
       "1   19    1.0        5719\n",
       "2   19    2.0        6012\n",
       "3   20    0.0         909\n",
       "4   20    1.0        1678"
      ]
     },
     "execution_count": 171,
     "metadata": {},
     "output_type": "execute_result"
    }
   ],
   "source": [
    "#Aggrégation des données selon l'âge et la catégorie\n",
    "age_cat = lapage_final.groupby(['age', 'categ']).count().reset_index()\n",
    "age_cat = age_cat[['age', 'categ', 'session_id']]\n",
    "age_cat.head()"
   ]
  },
  {
   "cell_type": "code",
   "execution_count": 172,
   "id": "043c5b61",
   "metadata": {},
   "outputs": [
    {
     "data": {
      "text/html": [
       "<div>\n",
       "<style scoped>\n",
       "    .dataframe tbody tr th:only-of-type {\n",
       "        vertical-align: middle;\n",
       "    }\n",
       "\n",
       "    .dataframe tbody tr th {\n",
       "        vertical-align: top;\n",
       "    }\n",
       "\n",
       "    .dataframe thead th {\n",
       "        text-align: right;\n",
       "    }\n",
       "</style>\n",
       "<table border=\"1\" class=\"dataframe\">\n",
       "  <thead>\n",
       "    <tr style=\"text-align: right;\">\n",
       "      <th></th>\n",
       "      <th>age</th>\n",
       "      <th>categ</th>\n",
       "      <th>session_id</th>\n",
       "    </tr>\n",
       "  </thead>\n",
       "  <tbody>\n",
       "    <tr>\n",
       "      <th>0</th>\n",
       "      <td>(18.925, 26.5]</td>\n",
       "      <td>0.0</td>\n",
       "      <td>10854</td>\n",
       "    </tr>\n",
       "    <tr>\n",
       "      <th>1</th>\n",
       "      <td>(18.925, 26.5]</td>\n",
       "      <td>1.0</td>\n",
       "      <td>19687</td>\n",
       "    </tr>\n",
       "    <tr>\n",
       "      <th>2</th>\n",
       "      <td>(18.925, 26.5]</td>\n",
       "      <td>2.0</td>\n",
       "      <td>22072</td>\n",
       "    </tr>\n",
       "    <tr>\n",
       "      <th>3</th>\n",
       "      <td>(26.5, 34.0]</td>\n",
       "      <td>0.0</td>\n",
       "      <td>44982</td>\n",
       "    </tr>\n",
       "    <tr>\n",
       "      <th>4</th>\n",
       "      <td>(26.5, 34.0]</td>\n",
       "      <td>1.0</td>\n",
       "      <td>22000</td>\n",
       "    </tr>\n",
       "    <tr>\n",
       "      <th>5</th>\n",
       "      <td>(26.5, 34.0]</td>\n",
       "      <td>2.0</td>\n",
       "      <td>11331</td>\n",
       "    </tr>\n",
       "    <tr>\n",
       "      <th>6</th>\n",
       "      <td>(34.0, 41.5]</td>\n",
       "      <td>0.0</td>\n",
       "      <td>110304</td>\n",
       "    </tr>\n",
       "    <tr>\n",
       "      <th>7</th>\n",
       "      <td>(34.0, 41.5]</td>\n",
       "      <td>1.0</td>\n",
       "      <td>34301</td>\n",
       "    </tr>\n",
       "    <tr>\n",
       "      <th>8</th>\n",
       "      <td>(34.0, 41.5]</td>\n",
       "      <td>2.0</td>\n",
       "      <td>527</td>\n",
       "    </tr>\n",
       "    <tr>\n",
       "      <th>9</th>\n",
       "      <td>(41.5, 49.0]</td>\n",
       "      <td>0.0</td>\n",
       "      <td>145418</td>\n",
       "    </tr>\n",
       "  </tbody>\n",
       "</table>\n",
       "</div>"
      ],
      "text/plain": [
       "              age  categ  session_id\n",
       "0  (18.925, 26.5]    0.0       10854\n",
       "1  (18.925, 26.5]    1.0       19687\n",
       "2  (18.925, 26.5]    2.0       22072\n",
       "3    (26.5, 34.0]    0.0       44982\n",
       "4    (26.5, 34.0]    1.0       22000\n",
       "5    (26.5, 34.0]    2.0       11331\n",
       "6    (34.0, 41.5]    0.0      110304\n",
       "7    (34.0, 41.5]    1.0       34301\n",
       "8    (34.0, 41.5]    2.0         527\n",
       "9    (41.5, 49.0]    0.0      145418"
      ]
     },
     "execution_count": 172,
     "metadata": {},
     "output_type": "execute_result"
    }
   ],
   "source": [
    "# Création des 10 groupes d'âges\n",
    "age_cat['age']= pd.cut(age_cat['age'], 10)\n",
    "age_cat = age_cat.groupby(['age','categ']).sum().reset_index()\n",
    "age_cat.head(10)"
   ]
  },
  {
   "cell_type": "code",
   "execution_count": 173,
   "id": "44f3018a",
   "metadata": {},
   "outputs": [],
   "source": [
    "#Coefficient de corrélation eta carré\n",
    "X = \"categ\" #qualitative\n",
    "Y = \"age\" #quantitative\n",
    "\n",
    "def eta_squared(x,y):\n",
    "    moyenne_y = y.mean()\n",
    "    classes = []\n",
    "    for classe in x.unique():\n",
    "        yi_classe = y[x==classe]\n",
    "        classes.append({'ni': len(yi_classe),\n",
    "                        'moyenne_classe': yi_classe.mean()})\n",
    "    SCT = sum([(yj-moyenne_y)**2 for yj in y])\n",
    "    SCE = sum([c['ni']*(c['moyenne_classe']-moyenne_y)**2 for c in classes])\n",
    "    return SCE/SCT"
   ]
  },
  {
   "cell_type": "code",
   "execution_count": 174,
   "id": "32dc054d",
   "metadata": {},
   "outputs": [
    {
     "data": {
      "text/plain": [
       "0.35"
      ]
     },
     "execution_count": 174,
     "metadata": {},
     "output_type": "execute_result"
    }
   ],
   "source": [
    "round(eta_squared(age_cat.age, age_cat.session_id), 2)"
   ]
  },
  {
   "cell_type": "markdown",
   "id": "0f034fb3",
   "metadata": {},
   "source": [
    "*Le rapport de corrélation est proche de 0.40, ce qui précise le précédent graphique dans lequel une certaine corrélation entre les catégories et l'âge client. Il est perceptible de voir le lien que peut avoir une catégorie en fonction d'une tranche d'âges, avec par exemple un fort succès de la catégorie 0 pour les 34 / 44 ans, ou à l inverse une clientèle plus âgée n adhère quasiment pas à cette catégorie, etc..*"
   ]
  },
  {
   "cell_type": "markdown",
   "id": "82e984de",
   "metadata": {},
   "source": [
    "# Âge et chiffre d'affaires global"
   ]
  },
  {
   "cell_type": "code",
   "execution_count": 175,
   "id": "4a1d5092",
   "metadata": {},
   "outputs": [
    {
     "name": "stdout",
     "output_type": "stream",
     "text": [
      "    age  Unnamed: 0          price\n",
      "0    19  7144692773  609013.690000\n",
      "1    20  2276144050  178195.780000\n",
      "2    21  2102575361  184229.714320\n",
      "3    22  2093488933  178497.700000\n",
      "4    23  2085847677  165042.889547\n",
      "..  ...         ...            ...\n",
      "71   90   151574222    5271.804773\n",
      "72   91    99341060    5043.190000\n",
      "73   92    51959545    2815.450000\n",
      "74   93   130231037    4013.870000\n",
      "75   94    95443316    3221.850000\n",
      "\n",
      "[76 rows x 3 columns]\n"
     ]
    }
   ],
   "source": [
    "# Age et chiffre d'affaires\n",
    "\n",
    "pan_age = fre_age.groupby('age').sum('price').reset_index()\n",
    "print(pan_age)"
   ]
  },
  {
   "cell_type": "code",
   "execution_count": 176,
   "id": "5bb390ed",
   "metadata": {},
   "outputs": [],
   "source": [
    "pan_age['price'] = pan_age['price'] / 1000"
   ]
  },
  {
   "cell_type": "code",
   "execution_count": 177,
   "id": "274d4ca4",
   "metadata": {
    "scrolled": true
   },
   "outputs": [
    {
     "data": {
      "text/plain": [
       "Text(0.5, 1.0, 'Chiffre d affaires et âge')"
      ]
     },
     "execution_count": 177,
     "metadata": {},
     "output_type": "execute_result"
    },
    {
     "data": {
      "image/png": "[encoded data removed]",
      "text/plain": [
       "<Figure size 432x288 with 1 Axes>"
      ]
     },
     "metadata": {
      "needs_background": "light"
     },
     "output_type": "display_data"
    }
   ],
   "source": [
    "ax1 = pan_age.plot.scatter('age', 'price', c='DarkBlue', marker= \"o\")\n",
    "plt.title('Chiffre d affaires et âge')"
   ]
  },
  {
   "cell_type": "code",
   "execution_count": 178,
   "id": "2f260b3b",
   "metadata": {},
   "outputs": [
    {
     "data": {
      "text/plain": [
       "ShapiroResult(statistic=0.5866405963897705, pvalue=5.0416715764180937e-23)"
      ]
     },
     "execution_count": 178,
     "metadata": {},
     "output_type": "execute_result"
    }
   ],
   "source": [
    "shapiro(pan_age)"
   ]
  },
  {
   "cell_type": "code",
   "execution_count": 179,
   "id": "4845bd2b",
   "metadata": {},
   "outputs": [
    {
     "name": "stdout",
     "output_type": "stream",
     "text": [
      "Coefficient de Pearson : -0.7788469792269561\n"
     ]
    }
   ],
   "source": [
    "#Coefficient de corrélation linéaire de Pearson\n",
    "coef_age_price = stats.pearsonr(pan_age.age, pan_age.price)[0]\n",
    "print (\"Coefficient de Pearson :\", coef_age_price)"
   ]
  },
  {
   "cell_type": "markdown",
   "id": "da52ee6f",
   "metadata": {},
   "source": [
    "Nous pouvons remarquer, avec le test de corrélation de pearson, que plus l'âge des clients est élevé, plus le montant des achats est faible en chiffre d'affaires global."
   ]
  },
  {
   "cell_type": "markdown",
   "id": "42e80e21",
   "metadata": {},
   "source": [
    "Nous voyons clairement les grandes tendances se dessiner :\n",
    "- La grande majorité du chiffre d'affaires de la catégorie 2 est généré par les 20/50 ans\n",
    "- La catégorie 0 est représentée par les actifs de 25 à 65 ans\n",
    "- Les achats de la catégorie 1 sont étalés sur toutes les tranches d'âge\n",
    "\n",
    "Nous pouvons constater également de manière générale qu'au délà de 70-80 ans, le chiffre d'affaires est en déclin. Ce qui est tout à fait logique, comme vu précédemment."
   ]
  },
  {
   "cell_type": "code",
   "execution_count": 180,
   "id": "8e3db42b",
   "metadata": {
    "scrolled": true
   },
   "outputs": [
    {
     "name": "stdout",
     "output_type": "stream",
     "text": [
      "Prix moyen et âge moyen par catégorie :            price        age\n",
      "categ                      \n",
      "0.0    10.641812  44.897616\n",
      "1.0    20.485730  48.651238\n",
      "2.0    76.207412  26.948031\n"
     ]
    }
   ],
   "source": [
    "# Age moyen et panier moyen par catégorie d'articles préférées\n",
    "\n",
    "cat_age = lapage_final.groupby(['categ']).mean(['age'])\n",
    "cat_age = cat_age.drop(['birth', 'Unnamed: 0'], axis=1)\n",
    "print(\"Prix moyen et âge moyen par catégorie :\", cat_age)"
   ]
  },
  {
   "cell_type": "markdown",
   "id": "f1d4405b",
   "metadata": {},
   "source": [
    "Le prix moyen le plus élevé se retrouve dans la catégorie 2 avec un prix moyen d'achat de 76€, comme vu précédemment. A destination d'une clientèle plus jeune que les autres catégories avec une moyenne de 27 ans."
   ]
  },
  {
   "cell_type": "markdown",
   "id": "b837559b",
   "metadata": {},
   "source": [
    "# Age et fréquence d'achat"
   ]
  },
  {
   "cell_type": "code",
   "execution_count": 181,
   "id": "8f2a2016",
   "metadata": {},
   "outputs": [
    {
     "data": {
      "text/html": [
       "<div>\n",
       "<style scoped>\n",
       "    .dataframe tbody tr th:only-of-type {\n",
       "        vertical-align: middle;\n",
       "    }\n",
       "\n",
       "    .dataframe tbody tr th {\n",
       "        vertical-align: top;\n",
       "    }\n",
       "\n",
       "    .dataframe thead th {\n",
       "        text-align: right;\n",
       "    }\n",
       "</style>\n",
       "<table border=\"1\" class=\"dataframe\">\n",
       "  <thead>\n",
       "    <tr style=\"text-align: right;\">\n",
       "      <th></th>\n",
       "      <th>age</th>\n",
       "      <th>session_id</th>\n",
       "      <th>frequence</th>\n",
       "    </tr>\n",
       "  </thead>\n",
       "  <tbody>\n",
       "    <tr>\n",
       "      <th>75</th>\n",
       "      <td>94</td>\n",
       "      <td>201</td>\n",
       "      <td>0.000296</td>\n",
       "    </tr>\n",
       "    <tr>\n",
       "      <th>74</th>\n",
       "      <td>93</td>\n",
       "      <td>226</td>\n",
       "      <td>0.000333</td>\n",
       "    </tr>\n",
       "    <tr>\n",
       "      <th>73</th>\n",
       "      <td>92</td>\n",
       "      <td>170</td>\n",
       "      <td>0.000250</td>\n",
       "    </tr>\n",
       "    <tr>\n",
       "      <th>72</th>\n",
       "      <td>91</td>\n",
       "      <td>311</td>\n",
       "      <td>0.000458</td>\n",
       "    </tr>\n",
       "    <tr>\n",
       "      <th>71</th>\n",
       "      <td>90</td>\n",
       "      <td>327</td>\n",
       "      <td>0.000481</td>\n",
       "    </tr>\n",
       "    <tr>\n",
       "      <th>70</th>\n",
       "      <td>89</td>\n",
       "      <td>555</td>\n",
       "      <td>0.000817</td>\n",
       "    </tr>\n",
       "    <tr>\n",
       "      <th>69</th>\n",
       "      <td>88</td>\n",
       "      <td>272</td>\n",
       "      <td>0.000400</td>\n",
       "    </tr>\n",
       "    <tr>\n",
       "      <th>68</th>\n",
       "      <td>87</td>\n",
       "      <td>757</td>\n",
       "      <td>0.001114</td>\n",
       "    </tr>\n",
       "    <tr>\n",
       "      <th>67</th>\n",
       "      <td>86</td>\n",
       "      <td>942</td>\n",
       "      <td>0.001387</td>\n",
       "    </tr>\n",
       "    <tr>\n",
       "      <th>66</th>\n",
       "      <td>85</td>\n",
       "      <td>834</td>\n",
       "      <td>0.001228</td>\n",
       "    </tr>\n",
       "  </tbody>\n",
       "</table>\n",
       "</div>"
      ],
      "text/plain": [
       "    age  session_id  frequence\n",
       "75   94         201   0.000296\n",
       "74   93         226   0.000333\n",
       "73   92         170   0.000250\n",
       "72   91         311   0.000458\n",
       "71   90         327   0.000481\n",
       "70   89         555   0.000817\n",
       "69   88         272   0.000400\n",
       "68   87         757   0.001114\n",
       "67   86         942   0.001387\n",
       "66   85         834   0.001228"
      ]
     },
     "execution_count": 181,
     "metadata": {},
     "output_type": "execute_result"
    }
   ],
   "source": [
    "#Agrégation des données selon l'âge client\n",
    "#Le nombre d'achat mensuel est obtenu à partir du comptage des sessions clients par mois\n",
    "#Hypothèse 1 id_session = 1 transation\n",
    "cli_freq = lapage_final.groupby('age').count().reset_index()\n",
    "cli_freq = cli_freq[['age', 'session_id']]\n",
    "\n",
    "#Création d'une variable fréquence 'f'\n",
    "cli_freq['frequence'] = cli_freq['session_id'] / sum(cli_freq['session_id'])\n",
    "cli_freq.sort_values(by='age', ascending=False).head(10)"
   ]
  },
  {
   "cell_type": "code",
   "execution_count": 182,
   "id": "71583979",
   "metadata": {
    "scrolled": true
   },
   "outputs": [
    {
     "data": {
      "image/png": "[encoded data removed]",
      "text/plain": [
       "<Figure size 432x288 with 1 Axes>"
      ]
     },
     "metadata": {
      "needs_background": "light"
     },
     "output_type": "display_data"
    }
   ],
   "source": [
    "#Visualisation avec un scatterplot (âge client vs fréquence d'achat mensuelle)\n",
    "#cli_freq.plot.scatter(x = 'age', y = 'f', marker = 'o', color='purple')\n",
    "plt.plot(cli_freq[cli_freq.frequence < .05].age, cli_freq[cli_freq.frequence < .05].frequence, 'o')\n",
    "\n",
    "plt.xlabel('Age')\n",
    "plt.ylabel('Fréquence achat')\n",
    "plt.title('Fréquence des achats selon l\\'age du client')\n",
    "\n",
    "plt.savefig(\"scatterplot_frequence_achat_age_client.png\")\n",
    "plt.show()"
   ]
  },
  {
   "cell_type": "code",
   "execution_count": 183,
   "id": "7d06af19",
   "metadata": {},
   "outputs": [
    {
     "data": {
      "text/plain": [
       "ShapiroResult(statistic=0.5292772054672241, pvalue=2.4412756160434343e-24)"
      ]
     },
     "execution_count": 183,
     "metadata": {},
     "output_type": "execute_result"
    }
   ],
   "source": [
    "shapiro(cli_freq)"
   ]
  },
  {
   "cell_type": "code",
   "execution_count": 184,
   "id": "9bb89e71",
   "metadata": {},
   "outputs": [
    {
     "name": "stdout",
     "output_type": "stream",
     "text": [
      "Coefficient de Pearson : -0.5337045762407477\n"
     ]
    }
   ],
   "source": [
    "#Coefficient de corrélation linéaire de Pearson\n",
    "coef_cli_freq = stats.pearsonr(cli_freq.age, cli_freq.frequence)[0]\n",
    "print (\"Coefficient de Pearson :\", coef_cli_freq)"
   ]
  },
  {
   "cell_type": "markdown",
   "id": "cf1bd1e0",
   "metadata": {},
   "source": [
    "Il existe bien un lien entre l'âge des clients et la fréquence de leurs achats. Il semblerait que les clients entre 30 et 50 ans effectuent plus d'achats que les autres tranches d'âge."
   ]
  },
  {
   "cell_type": "markdown",
   "id": "b4fa6ab3",
   "metadata": {},
   "source": [
    "# Age et panier moyen"
   ]
  },
  {
   "cell_type": "code",
   "execution_count": 185,
   "id": "7ed08210",
   "metadata": {
    "scrolled": true
   },
   "outputs": [
    {
     "data": {
      "text/html": [
       "<div>\n",
       "<style scoped>\n",
       "    .dataframe tbody tr th:only-of-type {\n",
       "        vertical-align: middle;\n",
       "    }\n",
       "\n",
       "    .dataframe tbody tr th {\n",
       "        vertical-align: top;\n",
       "    }\n",
       "\n",
       "    .dataframe thead th {\n",
       "        text-align: right;\n",
       "    }\n",
       "</style>\n",
       "<table border=\"1\" class=\"dataframe\">\n",
       "  <thead>\n",
       "    <tr style=\"text-align: right;\">\n",
       "      <th></th>\n",
       "      <th>age</th>\n",
       "      <th>id_prod</th>\n",
       "    </tr>\n",
       "  </thead>\n",
       "  <tbody>\n",
       "    <tr>\n",
       "      <th>71</th>\n",
       "      <td>90</td>\n",
       "      <td>1.397436</td>\n",
       "    </tr>\n",
       "    <tr>\n",
       "      <th>72</th>\n",
       "      <td>91</td>\n",
       "      <td>1.509709</td>\n",
       "    </tr>\n",
       "    <tr>\n",
       "      <th>73</th>\n",
       "      <td>92</td>\n",
       "      <td>1.770833</td>\n",
       "    </tr>\n",
       "    <tr>\n",
       "      <th>74</th>\n",
       "      <td>93</td>\n",
       "      <td>1.547945</td>\n",
       "    </tr>\n",
       "    <tr>\n",
       "      <th>75</th>\n",
       "      <td>94</td>\n",
       "      <td>1.500000</td>\n",
       "    </tr>\n",
       "  </tbody>\n",
       "</table>\n",
       "</div>"
      ],
      "text/plain": [
       "    age   id_prod\n",
       "71   90  1.397436\n",
       "72   91  1.509709\n",
       "73   92  1.770833\n",
       "74   93  1.547945\n",
       "75   94  1.500000"
      ]
     },
     "execution_count": 185,
     "metadata": {},
     "output_type": "execute_result"
    }
   ],
   "source": [
    "#Première agrégation selon l'age client et les sessions en comptage de modalités\n",
    "age_pan = lapage_final.groupby(['age', 'session_id']).count().reset_index()\n",
    "\n",
    "#Seconde agrégation selon l'age client en moyenne de produits achetés \n",
    "age_pan = age_pan.groupby('age').mean().reset_index()\n",
    "age_pan = age_pan[['age', 'id_prod']]\n",
    "age_pan.tail()"
   ]
  },
  {
   "cell_type": "code",
   "execution_count": 186,
   "id": "31394cf9",
   "metadata": {},
   "outputs": [
    {
     "data": {
      "text/plain": [
       "ShapiroResult(statistic=0.804015040397644, pvalue=5.412080831233845e-13)"
      ]
     },
     "execution_count": 186,
     "metadata": {},
     "output_type": "execute_result"
    }
   ],
   "source": [
    "shapiro(age_pan)"
   ]
  },
  {
   "cell_type": "code",
   "execution_count": 187,
   "id": "251d9e72",
   "metadata": {
    "scrolled": true
   },
   "outputs": [
    {
     "data": {
      "image/png": "[encoded data removed]",
      "text/plain": [
       "<Figure size 432x288 with 1 Axes>"
      ]
     },
     "metadata": {
      "needs_background": "light"
     },
     "output_type": "display_data"
    }
   ],
   "source": [
    "#Visualisation avec un scatterplot (âge client vs taille panier moyen)\n",
    "plt.plot(age_pan.age, age_pan.id_prod, 'o', color='blue')\n",
    "\n",
    "plt.xlabel('age')\n",
    "plt.ylabel('Panier moyen (Nbe de produits)')\n",
    "plt.title('Panier moyen en nombre de produits selon l\\'age client')\n",
    "\n",
    "plt.savefig(\"scatterplot_panier_moyen_age_client.png\")\n",
    "plt.show()"
   ]
  },
  {
   "cell_type": "markdown",
   "id": "244ae8aa",
   "metadata": {},
   "source": [
    "# Evolution du chiffre d'affaires dans le temps"
   ]
  },
  {
   "cell_type": "code",
   "execution_count": 188,
   "id": "c20bf808",
   "metadata": {},
   "outputs": [
    {
     "data": {
      "text/html": [
       "<div>\n",
       "<style scoped>\n",
       "    .dataframe tbody tr th:only-of-type {\n",
       "        vertical-align: middle;\n",
       "    }\n",
       "\n",
       "    .dataframe tbody tr th {\n",
       "        vertical-align: top;\n",
       "    }\n",
       "\n",
       "    .dataframe thead th {\n",
       "        text-align: right;\n",
       "    }\n",
       "</style>\n",
       "<table border=\"1\" class=\"dataframe\">\n",
       "  <thead>\n",
       "    <tr style=\"text-align: right;\">\n",
       "      <th></th>\n",
       "      <th>sex</th>\n",
       "      <th>categ</th>\n",
       "      <th>date</th>\n",
       "      <th>Unnamed: 0</th>\n",
       "      <th>birth</th>\n",
       "      <th>price</th>\n",
       "    </tr>\n",
       "  </thead>\n",
       "  <tbody>\n",
       "    <tr>\n",
       "      <th>0</th>\n",
       "      <td>f</td>\n",
       "      <td>0.0</td>\n",
       "      <td>2022-03-01 00:04:52.633371</td>\n",
       "      <td>208422</td>\n",
       "      <td>1975</td>\n",
       "      <td>5.22</td>\n",
       "    </tr>\n",
       "    <tr>\n",
       "      <th>1</th>\n",
       "      <td>f</td>\n",
       "      <td>0.0</td>\n",
       "      <td>2022-03-01 00:08:27.670968</td>\n",
       "      <td>208564</td>\n",
       "      <td>1975</td>\n",
       "      <td>6.84</td>\n",
       "    </tr>\n",
       "    <tr>\n",
       "      <th>2</th>\n",
       "      <td>f</td>\n",
       "      <td>0.0</td>\n",
       "      <td>2022-03-01 00:18:14.209692</td>\n",
       "      <td>232162</td>\n",
       "      <td>1991</td>\n",
       "      <td>9.99</td>\n",
       "    </tr>\n",
       "    <tr>\n",
       "      <th>3</th>\n",
       "      <td>f</td>\n",
       "      <td>0.0</td>\n",
       "      <td>2022-03-01 00:34:08.032304</td>\n",
       "      <td>295642</td>\n",
       "      <td>1987</td>\n",
       "      <td>8.09</td>\n",
       "    </tr>\n",
       "    <tr>\n",
       "      <th>4</th>\n",
       "      <td>f</td>\n",
       "      <td>0.0</td>\n",
       "      <td>2022-03-01 00:42:00.852668</td>\n",
       "      <td>489793</td>\n",
       "      <td>1984</td>\n",
       "      <td>19.41</td>\n",
       "    </tr>\n",
       "    <tr>\n",
       "      <th>...</th>\n",
       "      <td>...</td>\n",
       "      <td>...</td>\n",
       "      <td>...</td>\n",
       "      <td>...</td>\n",
       "      <td>...</td>\n",
       "      <td>...</td>\n",
       "    </tr>\n",
       "    <tr>\n",
       "      <th>342039</th>\n",
       "      <td>m</td>\n",
       "      <td>2.0</td>\n",
       "      <td>2023-02-28 20:19:12.251029</td>\n",
       "      <td>663257</td>\n",
       "      <td>2001</td>\n",
       "      <td>139.99</td>\n",
       "    </tr>\n",
       "    <tr>\n",
       "      <th>342040</th>\n",
       "      <td>m</td>\n",
       "      <td>2.0</td>\n",
       "      <td>2023-02-28 21:16:10.795432</td>\n",
       "      <td>14133</td>\n",
       "      <td>1999</td>\n",
       "      <td>54.87</td>\n",
       "    </tr>\n",
       "    <tr>\n",
       "      <th>342041</th>\n",
       "      <td>m</td>\n",
       "      <td>2.0</td>\n",
       "      <td>2023-02-28 21:45:26.670082</td>\n",
       "      <td>13485</td>\n",
       "      <td>1999</td>\n",
       "      <td>59.14</td>\n",
       "    </tr>\n",
       "    <tr>\n",
       "      <th>342042</th>\n",
       "      <td>m</td>\n",
       "      <td>2.0</td>\n",
       "      <td>2023-02-28 23:08:40.035146</td>\n",
       "      <td>13530</td>\n",
       "      <td>1999</td>\n",
       "      <td>50.99</td>\n",
       "    </tr>\n",
       "    <tr>\n",
       "      <th>342043</th>\n",
       "      <td>m</td>\n",
       "      <td>2.0</td>\n",
       "      <td>2023-02-28 23:33:19.977604</td>\n",
       "      <td>672526</td>\n",
       "      <td>1998</td>\n",
       "      <td>69.99</td>\n",
       "    </tr>\n",
       "  </tbody>\n",
       "</table>\n",
       "<p>342044 rows × 6 columns</p>\n",
       "</div>"
      ],
      "text/plain": [
       "       sex  categ                       date  Unnamed: 0  birth   price\n",
       "0        f    0.0 2022-03-01 00:04:52.633371      208422   1975    5.22\n",
       "1        f    0.0 2022-03-01 00:08:27.670968      208564   1975    6.84\n",
       "2        f    0.0 2022-03-01 00:18:14.209692      232162   1991    9.99\n",
       "3        f    0.0 2022-03-01 00:34:08.032304      295642   1987    8.09\n",
       "4        f    0.0 2022-03-01 00:42:00.852668      489793   1984   19.41\n",
       "...     ..    ...                        ...         ...    ...     ...\n",
       "342039   m    2.0 2023-02-28 20:19:12.251029      663257   2001  139.99\n",
       "342040   m    2.0 2023-02-28 21:16:10.795432       14133   1999   54.87\n",
       "342041   m    2.0 2023-02-28 21:45:26.670082       13485   1999   59.14\n",
       "342042   m    2.0 2023-02-28 23:08:40.035146       13530   1999   50.99\n",
       "342043   m    2.0 2023-02-28 23:33:19.977604      672526   1998   69.99\n",
       "\n",
       "[342044 rows x 6 columns]"
      ]
     },
     "execution_count": 188,
     "metadata": {},
     "output_type": "execute_result"
    }
   ],
   "source": [
    "# Création de deux tables distinctes par années d'exercice\n",
    "\n",
    "ventes_annee1b = ventes_annee1.groupby(['sex', 'categ', 'date']).sum(['price']).reset_index()\n",
    "ventes_annee1b\n",
    "\n",
    "ventes_annee2b = ventes_annee2.groupby(['sex', 'categ', 'date']).sum(['price']).reset_index()\n",
    "ventes_annee2b"
   ]
  },
  {
   "cell_type": "code",
   "execution_count": 189,
   "id": "63dacd91",
   "metadata": {},
   "outputs": [
    {
     "data": {
      "text/html": [
       "<div>\n",
       "<style scoped>\n",
       "    .dataframe tbody tr th:only-of-type {\n",
       "        vertical-align: middle;\n",
       "    }\n",
       "\n",
       "    .dataframe tbody tr th {\n",
       "        vertical-align: top;\n",
       "    }\n",
       "\n",
       "    .dataframe thead th {\n",
       "        text-align: right;\n",
       "    }\n",
       "</style>\n",
       "<table border=\"1\" class=\"dataframe\">\n",
       "  <thead>\n",
       "    <tr style=\"text-align: right;\">\n",
       "      <th></th>\n",
       "      <th></th>\n",
       "      <th></th>\n",
       "      <th>price</th>\n",
       "    </tr>\n",
       "    <tr>\n",
       "      <th>date</th>\n",
       "      <th>sex</th>\n",
       "      <th>categ</th>\n",
       "      <th></th>\n",
       "    </tr>\n",
       "  </thead>\n",
       "  <tbody>\n",
       "    <tr>\n",
       "      <th rowspan=\"5\" valign=\"top\">2022-03-31</th>\n",
       "      <th rowspan=\"3\" valign=\"top\">f</th>\n",
       "      <th>0.0</th>\n",
       "      <td>96107.929094</td>\n",
       "    </tr>\n",
       "    <tr>\n",
       "      <th>1.0</th>\n",
       "      <td>106351.990000</td>\n",
       "    </tr>\n",
       "    <tr>\n",
       "      <th>2.0</th>\n",
       "      <td>53218.390000</td>\n",
       "    </tr>\n",
       "    <tr>\n",
       "      <th rowspan=\"2\" valign=\"top\">m</th>\n",
       "      <th>0.0</th>\n",
       "      <td>95549.013414</td>\n",
       "    </tr>\n",
       "    <tr>\n",
       "      <th>1.0</th>\n",
       "      <td>100133.270000</td>\n",
       "    </tr>\n",
       "    <tr>\n",
       "      <th>...</th>\n",
       "      <th>...</th>\n",
       "      <th>...</th>\n",
       "      <td>...</td>\n",
       "    </tr>\n",
       "    <tr>\n",
       "      <th rowspan=\"5\" valign=\"top\">2023-02-28</th>\n",
       "      <th rowspan=\"2\" valign=\"top\">f</th>\n",
       "      <th>1.0</th>\n",
       "      <td>91902.820000</td>\n",
       "    </tr>\n",
       "    <tr>\n",
       "      <th>2.0</th>\n",
       "      <td>54962.710000</td>\n",
       "    </tr>\n",
       "    <tr>\n",
       "      <th rowspan=\"3\" valign=\"top\">m</th>\n",
       "      <th>0.0</th>\n",
       "      <td>81503.259094</td>\n",
       "    </tr>\n",
       "    <tr>\n",
       "      <th>1.0</th>\n",
       "      <td>88444.420000</td>\n",
       "    </tr>\n",
       "    <tr>\n",
       "      <th>2.0</th>\n",
       "      <td>58912.810000</td>\n",
       "    </tr>\n",
       "  </tbody>\n",
       "</table>\n",
       "<p>72 rows × 1 columns</p>\n",
       "</div>"
      ],
      "text/plain": [
       "                              price\n",
       "date       sex categ               \n",
       "2022-03-31 f   0.0     96107.929094\n",
       "               1.0    106351.990000\n",
       "               2.0     53218.390000\n",
       "           m   0.0     95549.013414\n",
       "               1.0    100133.270000\n",
       "...                             ...\n",
       "2023-02-28 f   1.0     91902.820000\n",
       "               2.0     54962.710000\n",
       "           m   0.0     81503.259094\n",
       "               1.0     88444.420000\n",
       "               2.0     58912.810000\n",
       "\n",
       "[72 rows x 1 columns]"
      ]
     },
     "execution_count": 189,
     "metadata": {},
     "output_type": "execute_result"
    }
   ],
   "source": [
    "# Regroupement par dates à l'échelle mensuelle, avec le sexe et la catégorie de produits\n",
    "\n",
    "ventes_annee1m = ventes_annee1b.groupby([pd.Grouper(key='date', freq='m'), 'sex', 'categ']).sum('price')\n",
    "ventes_annee1mok = ventes_annee1m.drop(['birth', 'Unnamed: 0'], axis=1)\n",
    "ventes_annee1mok\n",
    "\n",
    "ventes_annee2m = ventes_annee2b.groupby([pd.Grouper(key='date', freq='m'), 'sex', 'categ']).sum('price')\n",
    "ventes_annee2mok = ventes_annee2m.drop(['birth', 'Unnamed: 0'], axis=1)\n",
    "ventes_annee2mok"
   ]
  },
  {
   "cell_type": "code",
   "execution_count": 190,
   "id": "37b32852",
   "metadata": {},
   "outputs": [],
   "source": [
    "# Export intermédiaire\n",
    "gfg_csv_data = ventes_annee1mok.to_csv('correl1.csv', index = True)\n",
    "\n",
    "# Export intermédiaire\n",
    "gfg_csv_data = ventes_annee2mok.to_csv('correl2.csv', index = True)"
   ]
  },
  {
   "cell_type": "code",
   "execution_count": 191,
   "id": "577f5427",
   "metadata": {},
   "outputs": [],
   "source": [
    "ventes_annee1mok = pd.read_csv ('correl1.csv', sep=',')\n",
    "ventes_annee2mok = pd.read_csv ('correl2.csv', sep=',')"
   ]
  },
  {
   "cell_type": "code",
   "execution_count": 192,
   "id": "5dac685b",
   "metadata": {},
   "outputs": [
    {
     "data": {
      "text/plain": [
       "<AxesSubplot:xlabel='date', ylabel='price'>"
      ]
     },
     "execution_count": 192,
     "metadata": {},
     "output_type": "execute_result"
    },
    {
     "data": {
      "image/png": "[encoded data removed]",
      "text/plain": [
       "<Figure size 1296x720 with 4 Axes>"
      ]
     },
     "metadata": {
      "needs_background": "light"
     },
     "output_type": "display_data"
    }
   ],
   "source": [
    "# Visualisation en 4 barplots distincts\n",
    "\n",
    "fig, axes = plt.subplots(2, 2, figsize=(18, 10))\n",
    " \n",
    "fig.suptitle('Evolution mensuelle du chiffre d affaires par catégorie, puis par sexe')\n",
    " \n",
    "sns.barplot(ax=axes[0, 0], data=ventes_annee1mok, x = 'date', y = 'price', hue = 'categ')\n",
    "sns.barplot(ax=axes[0, 1], data=ventes_annee2mok, x = 'date', y = 'price', hue = 'categ')\n",
    "sns.barplot(ax=axes[1, 0], data=ventes_annee1mok, x = 'date', y = 'price', hue = 'sex')\n",
    "sns.barplot(ax=axes[1, 1], data=ventes_annee2mok, x = 'date', y = 'price', hue = 'sex')"
   ]
  },
  {
   "cell_type": "markdown",
   "id": "43462de2",
   "metadata": {},
   "source": [
    "# Conclusion :"
   ]
  },
  {
   "cell_type": "markdown",
   "id": "66fbfd71",
   "metadata": {},
   "source": [
    "Notre analyse nous montre plusieurs évidences :\n",
    " - Le sexe n'influe pas sur la catégorie d'achats\n",
    " - Il y a une corrélation entre l'âge du client et la catégorie d'achats\n",
    " - La catégorie des actifs de 30 à 55 ans génère la majorité du chiffre d'affaires, le meilleur panier moyen et reviennent le plus souvent sur le site\n",
    " - Les 18-30 ans achètent le plus de produits de la catégorie 2 en nombre de ventes et en chiffre d'affaires\n",
    " "
   ]
  },
  {
   "cell_type": "code",
   "execution_count": 193,
   "id": "b809addc",
   "metadata": {},
   "outputs": [],
   "source": [
    "# Horaires d'achats\n",
    "horaires = ventes_annee2.groupby(pd.Grouper(key='date', freq='h'))['session_id'].count()\n",
    "gfg_csv_data = horaires.to_csv('tablehoraires.csv', index = True)"
   ]
  },
  {
   "cell_type": "code",
   "execution_count": 194,
   "id": "e15996f6",
   "metadata": {},
   "outputs": [
    {
     "data": {
      "text/plain": [
       "date\n",
       "2022-03-01 00:00:00    37\n",
       "2022-03-01 01:00:00    41\n",
       "2022-03-01 02:00:00    38\n",
       "2022-03-01 03:00:00    42\n",
       "2022-03-01 04:00:00    43\n",
       "                       ..\n",
       "2023-02-28 19:00:00    35\n",
       "2023-02-28 20:00:00    39\n",
       "2023-02-28 21:00:00    43\n",
       "2023-02-28 22:00:00    41\n",
       "2023-02-28 23:00:00    44\n",
       "Freq: H, Name: session_id, Length: 8760, dtype: int64"
      ]
     },
     "execution_count": 194,
     "metadata": {},
     "output_type": "execute_result"
    }
   ],
   "source": [
    "horaires"
   ]
  },
  {
   "cell_type": "code",
   "execution_count": 195,
   "id": "49365fa9",
   "metadata": {},
   "outputs": [],
   "source": [
    "horaires = pd.read_csv ('tablehoraires.csv', sep=',')"
   ]
  },
  {
   "cell_type": "code",
   "execution_count": 196,
   "id": "3f87b7a9",
   "metadata": {
    "scrolled": true
   },
   "outputs": [],
   "source": [
    "times = pd.to_datetime(horaires.date)\n",
    "visite_heure = horaires.groupby([times.dt.hour]).session_id.mean()"
   ]
  },
  {
   "cell_type": "code",
   "execution_count": 197,
   "id": "4db823d1",
   "metadata": {},
   "outputs": [
    {
     "data": {
      "text/plain": [
       "date\n",
       "0    38.402740\n",
       "1    38.745205\n",
       "2    39.410959\n",
       "3    38.619178\n",
       "4    38.572603\n",
       "Name: session_id, dtype: float64"
      ]
     },
     "execution_count": 197,
     "metadata": {},
     "output_type": "execute_result"
    }
   ],
   "source": [
    "visite_heure.head()"
   ]
  },
  {
   "cell_type": "code",
   "execution_count": 198,
   "id": "1e2a101b",
   "metadata": {},
   "outputs": [
    {
     "data": {
      "image/png": "[encoded data removed]",
      "text/plain": [
       "<Figure size 576x360 with 1 Axes>"
      ]
     },
     "metadata": {
      "needs_background": "light"
     },
     "output_type": "display_data"
    }
   ],
   "source": [
    "plt.figure(figsize = (8, 5))\n",
    "\n",
    "plt.plot(visite_heure)\n",
    "plt.title('Moyenne des transactions en fonction de l heure')\n",
    "plt.xlabel('Heures de la journée')\n",
    "plt.ylabel('Transactions')\n",
    "plt.grid(True)\n",
    "plt.show()"
   ]
  },
  {
   "cell_type": "code",
   "execution_count": null,
   "id": "95f9e85c",
   "metadata": {},
   "outputs": [],
   "source": []
  }
 ],
 "metadata": {
  "kernelspec": {
   "display_name": "Python 3 (ipykernel)",
   "language": "python",
   "name": "python3"
  },
  "language_info": {
   "codemirror_mode": {
    "name": "ipython",
    "version": 3
   },
   "file_extension": ".py",
   "mimetype": "text/x-python",
   "name": "python",
   "nbconvert_exporter": "python",
   "pygments_lexer": "ipython3",
   "version": "3.9.7"
  }
 },
 "nbformat": 4,
 "nbformat_minor": 5
}
